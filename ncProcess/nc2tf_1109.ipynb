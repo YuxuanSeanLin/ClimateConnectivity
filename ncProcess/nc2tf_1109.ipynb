{
 "cells": [
  {
   "cell_type": "code",
   "execution_count": 1,
   "id": "330fd820",
   "metadata": {},
   "outputs": [],
   "source": [
    "import xarray as xr\n",
    "import rioxarray as rio\n",
    "import os\n",
    "from glob import glob"
   ]
  },
  {
   "cell_type": "code",
   "execution_count": 5,
   "id": "504a2b22",
   "metadata": {},
   "outputs": [],
   "source": [
    "os.chdir(r'J:\\cmip6\\data\\thetao_mdmean')\n",
    "years = list(range(2051, 2100))\n",
    "# ['historical', 'ssp126', 'ssp245', 'ssp370', 'ssp585']\n",
    "for depth in ['surface', 'mesopelagic', 'bathypelagic', 'abyssopelagic']:\n",
    "    os.mkdir(\"%s\" % depth)\n",
    "    for scen in ['ssp126', 'ssp245', 'ssp370', 'ssp585']:\n",
    "        os.mkdir(\"%s/%s\" % (depth, scen))\n",
    "#         for yr in years:\n",
    "#             os.mkdir(\"%s/%s/%s\" % (depth, scen, yr))"
   ]
  },
  {
   "cell_type": "code",
   "execution_count": null,
   "id": "c87e6528",
   "metadata": {},
   "outputs": [],
   "source": [
    "for scen in ['ssp245', 'ssp370', 'ssp585']:\n",
    "    for yr in years:\n",
    "        os.chdir(r'J:\\cmip6\\data\\thetao_add\\%s\\%s' % (scen, yr))\n",
    "        files = sorted(glob('*.nc'))\n",
    "        for f in files:\n",
    "            ds = xr.open_dataset(f, decode_times=False)\n",
    "            dirname = f.split('_')[2]\n",
    "            os.mkdir('J:/cmip6/data/thetao_depth/surface/%s/%s/%s' % (scen, yr, dirname))\n",
    "            os.mkdir('J:/cmip6/data/thetao_depth/mesopelagic/%s/%s/%s' % (scen, yr, dirname))\n",
    "            os.mkdir('J:/cmip6/data/thetao_depth/bathypelagic/%s/%s/%s' % (scen, yr, dirname))\n",
    "            os.mkdir('J:/cmip6/data/thetao_depth/abyssopelagic/%s/%s/%s' % (scen, yr, dirname))\n",
    "                \n",
    "            try:\n",
    "                # ds为二维元组\n",
    "                for h,data in ds.groupby('lev'):\n",
    "                    data = data.thetao \n",
    "                    h = int(round(h, 0)) # 深度\n",
    "\n",
    "                    ## 分类保存\n",
    "                    if h < 200:\n",
    "                        out_name = os.path.join('J:\\\\cmip6\\\\data\\\\thetao_depth\\\\surface\\\\%s\\\\%s\\\\%s' % (scen, yr, dirname), \n",
    "                                                '%s.tif' % h)\n",
    "                    elif h < 1000:\n",
    "                        out_name = os.path.join('J:\\\\cmip6\\\\data\\\\thetao_depth\\\\mesopelagic\\\\%s\\\\%s\\\\%s' % (scen, yr, dirname), \n",
    "                                                '%s.tif' % h)\n",
    "                    elif h < 4000:\n",
    "                        out_name = os.path.join('J:\\\\cmip6\\\\data\\\\thetao_depth\\\\bathypelagic\\\\%s\\\\%s\\\\%s' % (scen, yr, dirname), \n",
    "                                                '%s.tif' % h)\n",
    "                    else:\n",
    "                        out_name = os.path.join('J:\\\\cmip6\\\\data\\\\thetao_depth\\\\abyssopelagic\\\\%s\\\\%s\\\\%s' % (scen, yr, dirname), \n",
    "                                                '%s.tif' % h)\n",
    "\n",
    "                    outdata = data.transpose('time', 'lat', 'lon')\n",
    "                    outdata = outdata.rio.set_spatial_dims(x_dim='lon',y_dim='lat')\n",
    "                    outdata = outdata.rio.set_crs(\"epsg:4326\")\n",
    "                    outdata.rio.to_raster(out_name) \n",
    "\n",
    "            except:\n",
    "                pass\n",
    "            \n",
    "        print(\"year: %s --- finished\" % yr)\n",
    "            \n",
    "    print(\" ## == %s --- finished == ##\" % scen)"
   ]
  }
 ],
 "metadata": {
  "kernelspec": {
   "display_name": "Python 3",
   "language": "python",
   "name": "python3"
  },
  "language_info": {
   "codemirror_mode": {
    "name": "ipython",
    "version": 3
   },
   "file_extension": ".py",
   "mimetype": "text/x-python",
   "name": "python",
   "nbconvert_exporter": "python",
   "pygments_lexer": "ipython3",
   "version": "3.8.8"
  }
 },
 "nbformat": 4,
 "nbformat_minor": 5
}
