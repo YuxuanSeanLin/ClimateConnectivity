{
 "cells": [
  {
   "cell_type": "code",
   "execution_count": 1,
   "metadata": {},
   "outputs": [],
   "source": [
    "import arcpy\n",
    "from arcpy import env\n",
    "import glob\n",
    "from glob import glob\n",
    "import os"
   ]
  },
  {
   "cell_type": "code",
   "execution_count": 2,
   "metadata": {
    "scrolled": true
   },
   "outputs": [
    {
     "name": "stdout",
     "output_type": "stream",
     "text": [
      "2006: artisanal_fishing_2006_rescaled.tif --- complete\n",
      "2006: commercial_fishing_demersal_destructive_2006_rescaled.tif --- complete\n",
      "2006: commercial_fishing_demersal_nondestructive_high_bycatch_2006_rescaled.tif --- complete\n",
      "2006: commercial_fishing_demersal_nondestructive_low_bycatch_2006_rescaled.tif --- complete\n",
      "2006: commercial_fishing_pelagic_high_bycatch_2006_rescaled.tif --- complete\n",
      "2006: commercial_fishing_pelagic_low_bycatch_2006_rescaled.tif --- complete\n",
      "2006: direct_human_2006_rescaled.tif --- complete\n",
      "2006: light_2006_rescaled.tif --- complete\n",
      "2006: nutrient_pollution_2006_rescaled.tif --- complete\n",
      "2006: organic_chemical_pollution_2006_rescaled.tif --- complete\n",
      "2006: shipping_2006_rescaled.tif --- complete\n",
      "2007: artisanal_fishing_2007_rescaled.tif --- complete\n",
      "2007: commercial_fishing_demersal_destructive_2007_rescaled.tif --- complete\n",
      "2007: commercial_fishing_demersal_nondestructive_high_bycatch_2007_rescaled.tif --- complete\n",
      "2007: commercial_fishing_demersal_nondestructive_low_bycatch_2007_rescaled.tif --- complete\n",
      "2007: commercial_fishing_pelagic_high_bycatch_2007_rescaled.tif --- complete\n",
      "2007: commercial_fishing_pelagic_low_bycatch_2007_rescaled.tif --- complete\n",
      "2007: direct_human_2007_rescaled.tif --- complete\n",
      "2007: light_2007_rescaled.tif --- complete\n",
      "2007: nutrient_pollution_2007_rescaled.tif --- complete\n",
      "2007: organic_chemical_pollution_2007_rescaled.tif --- complete\n",
      "2007: shipping_2007_rescaled.tif --- complete\n"
     ]
    }
   ],
   "source": [
    "wdir = 'F:/LinYuxuan/CHI_yr'\n",
    "\n",
    "# project raster\n",
    "for yr in ['2006', '2007']:\n",
    "    os.chdir(\"%s/stressors/%s\" % (wdir, yr))\n",
    "    files = sorted(glob('*.tif'))\n",
    "    os.mkdir(\"%s/stressors_project/%s\" % (wdir, yr))\n",
    "\n",
    "    for f in files:\n",
    "        arcpy.management.ProjectRaster(\"%s/stressors/%s/%s\" % (wdir, yr, f), \n",
    "                                       \"%s/stressors_project/%s/%s\" % (wdir, yr, f), \n",
    "                                       \"GEOGCS['GCS_WGS_1984',DATUM['D_WGS_1984',SPHEROID['WGS_1984',6378137.0,298.257223563]],PRIMEM['Greenwich',0.0],UNIT['Degree',0.0174532925199433]]\", \"NEAREST\", \n",
    "                                       \"9.32400932400932E-03 9.32400932400932E-03\", \n",
    "                                       None, None, \"PROJCS['WGS_1984_Mollweide',GEOGCS['GCS_WGS_1984',DATUM['D_unknown',SPHEROID['WGS84',6378137.0,298.257223563]],PRIMEM['Greenwich',0.0],UNIT['Degree',0.0174532925199433]],PROJECTION['Mollweide'],PARAMETER['false_easting',0.0],PARAMETER['false_northing',0.0],PARAMETER['central_meridian',0.0],UNIT['Meter',1.0]]\", \"NO_VERTICAL\")\n",
    "        print(\"%s: %s --- complete\" % (yr, f))"
   ]
  },
  {
   "cell_type": "code",
   "execution_count": 4,
   "metadata": {
    "scrolled": true
   },
   "outputs": [
    {
     "name": "stdout",
     "output_type": "stream",
     "text": [
      "2006: artisanal_fishing_2006_rescaled.tif --- complete\n",
      "2006: commercial_fishing_demersal_destructive_2006_rescaled.tif --- complete\n",
      "2006: commercial_fishing_demersal_nondestructive_high_bycatch_2006_rescaled.tif --- complete\n",
      "2006: commercial_fishing_demersal_nondestructive_low_bycatch_2006_rescaled.tif --- complete\n",
      "2006: commercial_fishing_pelagic_high_bycatch_2006_rescaled.tif --- complete\n",
      "2006: commercial_fishing_pelagic_low_bycatch_2006_rescaled.tif --- complete\n",
      "2006: direct_human_2006_rescaled.tif --- complete\n",
      "2006: light_2006_rescaled.tif --- complete\n",
      "2006: nutrient_pollution_2006_rescaled.tif --- complete\n",
      "2006: organic_chemical_pollution_2006_rescaled.tif --- complete\n",
      "2006: shipping_2006_rescaled.tif --- complete\n",
      "2007: artisanal_fishing_2007_rescaled.tif --- complete\n",
      "2007: commercial_fishing_demersal_destructive_2007_rescaled.tif --- complete\n",
      "2007: commercial_fishing_demersal_nondestructive_high_bycatch_2007_rescaled.tif --- complete\n",
      "2007: commercial_fishing_demersal_nondestructive_low_bycatch_2007_rescaled.tif --- complete\n",
      "2007: commercial_fishing_pelagic_high_bycatch_2007_rescaled.tif --- complete\n",
      "2007: commercial_fishing_pelagic_low_bycatch_2007_rescaled.tif --- complete\n",
      "2007: direct_human_2007_rescaled.tif --- complete\n",
      "2007: light_2007_rescaled.tif --- complete\n",
      "2007: nutrient_pollution_2007_rescaled.tif --- complete\n",
      "2007: organic_chemical_pollution_2007_rescaled.tif --- complete\n",
      "2007: shipping_2007_rescaled.tif --- complete\n"
     ]
    }
   ],
   "source": [
    "for yr in ['2006', '2007']:\n",
    "    os.chdir(\"%s/stressors_project/%s\" % (wdir, yr))\n",
    "    files = sorted(glob('*.tif'))\n",
    "\n",
    "    for f in files:\n",
    "        arcpy.management.MosaicToNewRaster(\"%s/stressors_project/%s/%s;%s/base/domain.tif\" % (wdir, yr, f, wdir), \n",
    "                                           \"%s/stressors_mosaic/%s\" % (wdir, yr), \n",
    "                                           f, \n",
    "                                           \"GEOGCS['GCS_WGS_1984',DATUM['D_WGS_1984',SPHEROID['WGS_1984',6378137.0,298.257223563]],PRIMEM['Greenwich',0.0],UNIT['Degree',0.0174532925199433]]\", \"64_BIT\", None, 1, \"SUM\", \"FIRST\")\n",
    "        print(\"%s: %s --- complete\" % (yr, f))"
   ]
  },
  {
   "cell_type": "code",
   "execution_count": 3,
   "metadata": {},
   "outputs": [
    {
     "name": "stdout",
     "output_type": "stream",
     "text": [
      "\n",
      "===== 2006: artisanal_fishing_2006_rescaled.tif complete! =====\n",
      "\n",
      "\n",
      "===== 2006: commercial_fishing_demersal_destructive_2006_rescaled.tif complete! =====\n",
      "\n",
      "\n",
      "===== 2006: commercial_fishing_demersal_nondestructive_high_bycatch_2006_rescaled.tif complete! =====\n",
      "\n"
     ]
    },
    {
     "ename": "FileNotFoundError",
     "evalue": "[WinError 2] 系统找不到指定的文件。: 'F:/LinYuxuan/CHI_yr/stressors_mosaic/2007'",
     "output_type": "error",
     "traceback": [
      "\u001b[1;31m---------------------------------------------------------------------------\u001b[0m",
      "\u001b[1;31mFileNotFoundError\u001b[0m                         Traceback (most recent call last)",
      "\u001b[1;32m<ipython-input-3-89e2eedecb72>\u001b[0m in \u001b[0;36m<module>\u001b[1;34m\u001b[0m\n\u001b[0;32m      1\u001b[0m \u001b[1;32mfor\u001b[0m \u001b[0myr\u001b[0m \u001b[1;32min\u001b[0m \u001b[1;33m[\u001b[0m\u001b[1;34m'2006'\u001b[0m\u001b[1;33m,\u001b[0m \u001b[1;34m'2007'\u001b[0m\u001b[1;33m]\u001b[0m\u001b[1;33m:\u001b[0m\u001b[1;33m\u001b[0m\u001b[1;33m\u001b[0m\u001b[0m\n\u001b[1;32m----> 2\u001b[1;33m     \u001b[0mos\u001b[0m\u001b[1;33m.\u001b[0m\u001b[0mchdir\u001b[0m\u001b[1;33m(\u001b[0m\u001b[1;34m\"%s/stressors_mosaic/%s\"\u001b[0m \u001b[1;33m%\u001b[0m \u001b[1;33m(\u001b[0m\u001b[0mwdir\u001b[0m\u001b[1;33m,\u001b[0m \u001b[0myr\u001b[0m\u001b[1;33m)\u001b[0m\u001b[1;33m)\u001b[0m\u001b[1;33m\u001b[0m\u001b[1;33m\u001b[0m\u001b[0m\n\u001b[0m\u001b[0;32m      3\u001b[0m     \u001b[0mfiles\u001b[0m \u001b[1;33m=\u001b[0m \u001b[0msorted\u001b[0m\u001b[1;33m(\u001b[0m\u001b[0mglob\u001b[0m\u001b[1;33m(\u001b[0m\u001b[1;34m'*.tif'\u001b[0m\u001b[1;33m)\u001b[0m\u001b[1;33m)\u001b[0m\u001b[1;33m\u001b[0m\u001b[1;33m\u001b[0m\u001b[0m\n\u001b[0;32m      4\u001b[0m     \u001b[0mos\u001b[0m\u001b[1;33m.\u001b[0m\u001b[0mmkdir\u001b[0m\u001b[1;33m(\u001b[0m\u001b[1;34m\"%s/stressors_depth/%s\"\u001b[0m \u001b[1;33m%\u001b[0m \u001b[1;33m(\u001b[0m\u001b[0mwdir\u001b[0m\u001b[1;33m,\u001b[0m \u001b[0myr\u001b[0m\u001b[1;33m)\u001b[0m\u001b[1;33m)\u001b[0m\u001b[1;33m\u001b[0m\u001b[1;33m\u001b[0m\u001b[0m\n\u001b[0;32m      5\u001b[0m \u001b[1;33m\u001b[0m\u001b[0m\n",
      "\u001b[1;31mFileNotFoundError\u001b[0m: [WinError 2] 系统找不到指定的文件。: 'F:/LinYuxuan/CHI_yr/stressors_mosaic/2007'"
     ]
    }
   ],
   "source": [
    "for yr in ['2006', '2007']:\n",
    "    os.chdir(\"%s/stressors_mosaic/%s\" % (wdir, yr))\n",
    "    files = sorted(glob('*.tif'))\n",
    "    os.mkdir(\"%s/stressors_depth/%s\" % (wdir, yr))\n",
    "\n",
    "    mask = \"%s/base/surface_gebco.tif\" % wdir\n",
    "    for tif in files:\n",
    "        out_raster = arcpy.sa.ExtractByMask(\"%s/stressors_mosaic/%s/%s\" % (wdir, yr, tif), mask); \n",
    "        out_raster.save(\"%s/stressors_depth/%s/%s\" % (wdir, yr, tif))\n",
    "        print(\"\\n===== %s: %s complete! =====\\n\" % (yr, tif))\n",
    "        "
   ]
  },
  {
   "cell_type": "code",
   "execution_count": null,
   "metadata": {},
   "outputs": [],
   "source": []
  }
 ],
 "metadata": {
  "kernelspec": {
   "display_name": "Python 3",
   "language": "python",
   "name": "python3"
  },
  "language_info": {
   "codemirror_mode": {
    "name": "ipython",
    "version": 3
   },
   "file_extension": ".py",
   "mimetype": "text/x-python",
   "name": "python",
   "nbconvert_exporter": "python",
   "pygments_lexer": "ipython3",
   "version": "3.7.9"
  }
 },
 "nbformat": 4,
 "nbformat_minor": 4
}
