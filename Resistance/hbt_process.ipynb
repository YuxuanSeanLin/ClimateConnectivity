{
 "cells": [
  {
   "cell_type": "code",
   "execution_count": 1,
   "metadata": {},
   "outputs": [],
   "source": [
    "import arcpy\n",
    "from arcpy import env\n",
    "import glob\n",
    "from glob import glob\n",
    "import os"
   ]
  },
  {
   "cell_type": "code",
   "execution_count": 6,
   "metadata": {},
   "outputs": [
    {
     "name": "stdout",
     "output_type": "stream",
     "text": [
      "habitat_beach.tif\n",
      "habitat_coral_reef.tif\n",
      "habitat_d_h_bottom.tif\n",
      "habitat_d_s_benthic.tif\n",
      "habitat_deep_waters.tif\n",
      "habitat_hard_shelf.tif\n",
      "habitat_hard_slope.tif\n",
      "habitat_ice.tif\n",
      "habitat_inttidalmud.tif\n",
      "habitat_kelp.tif\n",
      "habitat_mangroves.tif\n",
      "habitat_rky_intidal.tif\n",
      "habitat_rocky_reef.tif\n",
      "habitat_s_t_s_bottom.tif\n",
      "habitat_salt_marsh.tif\n",
      "habitat_seagrass.tif\n",
      "habitat_seamounts.tif\n",
      "habitat_soft_shelf.tif\n",
      "habitat_soft_slope.tif\n",
      "habitat_surface_waters.tif\n",
      "habitat_suspension_reef.tif\n"
     ]
    }
   ],
   "source": [
    "# project raster\n",
    "os.chdir(r\"G:\\ResearchArticles\\CHI_yr\\hbt\")\n",
    "files = sorted(glob('*.tif'))\n",
    "\n",
    "for f in files:\n",
    "    arcpy.management.ProjectRaster(r\"G:\\ResearchArticles\\CHI_yr\\hbt\\%s\" % f, \n",
    "                                   r\"G:\\ResearchArticles\\CHI_yr\\proj\\%s\" % f, \n",
    "                                   \"GEOGCS['GCS_WGS_1984',DATUM['D_WGS_1984',SPHEROID['WGS_1984',6378137.0,298.257223563]],PRIMEM['Greenwich',0.0],UNIT['Degree',0.0174532925199433]]\", \"NEAREST\", \n",
    "                                   \"9.32400932400932E-03 9.32400932400932E-03\", \n",
    "                                   None, None, \"PROJCS['WGS_1984_Mollweide',GEOGCS['GCS_WGS_1984',DATUM['D_unknown',SPHEROID['WGS84',6378137.0,298.257223563]],PRIMEM['Greenwich',0.0],UNIT['Degree',0.0174532925199433]],PROJECTION['Mollweide'],PARAMETER['false_easting',0.0],PARAMETER['false_northing',0.0],PARAMETER['central_meridian',0.0],UNIT['Meter',1.0]]\", \"NO_VERTICAL\")\n",
    "    print(f)"
   ]
  },
  {
   "cell_type": "code",
   "execution_count": 8,
   "metadata": {},
   "outputs": [
    {
     "name": "stdout",
     "output_type": "stream",
     "text": [
      "beach.tif\n",
      "continental_shelf_hard_bottom.tif\n",
      "continental_shelf_soft_bottom.tif\n",
      "continental_slope_hard_bottom.tif\n",
      "continental_slope_soft_bottom.tif\n",
      "coral_reefs.tif\n",
      "deep_benthic_hard_bottom.tif\n",
      "deep_benthic_soft_bottom.tif\n",
      "ice.tif\n",
      "intertidal_mud.tif\n",
      "kelp_forest.tif\n",
      "mangroves.tif\n",
      "rocky_intertidal.tif\n",
      "rocky_reef.tif\n",
      "salt_marsh.tif\n",
      "seagrass.tif\n",
      "seamounts.tif\n",
      "shallow_soft_bottom.tif\n",
      "shellfish_reef.tif\n"
     ]
    }
   ],
   "source": [
    "# gapfilling\n",
    "os.mkdir(r\"G:\\ResearchArticles\\CHI_yr\\hbt_depth\\surface\")\n",
    "os.mkdir(r\"G:\\ResearchArticles\\CHI_yr\\hbt_depth\\mesopelagic\")\n",
    "os.mkdir(r\"G:\\ResearchArticles\\CHI_yr\\hbt_depth\\bathypelagic\")\n",
    "os.mkdir(r\"G:\\ResearchArticles\\CHI_yr\\hbt_depth\\abyssopelagic\")\n",
    "\n",
    "os.chdir(r\"G:\\ResearchArticles\\CHI_yr\\hbt_project\")\n",
    "files = sorted(glob('*.tif'))\n",
    "\n",
    "for f in files:\n",
    "    arcpy.management.MosaicToNewRaster(\"G:/ResearchArticles/CHI_yr/hbt_project/%s;G:/ResearchArticles/raw/domain.tif\" % f, \n",
    "                                       r\"G:\\ResearchArticles\\CHI_yr\\hbt_mosaic\", \n",
    "                                       f, \n",
    "                                       \"GEOGCS['GCS_WGS_1984',DATUM['D_WGS_1984',SPHEROID['WGS_1984',6378137.0,298.257223563]],PRIMEM['Greenwich',0.0],UNIT['Degree',0.0174532925199433]]\", \"8_BIT_UNSIGNED\", None, 1, \"MAXIMUM\", \"FIRST\")\n",
    "    print(f)\n"
   ]
  },
  {
   "cell_type": "code",
   "execution_count": 9,
   "metadata": {},
   "outputs": [
    {
     "name": "stdout",
     "output_type": "stream",
     "text": [
      "\n",
      "===== abyssopelagic complete! =====\n",
      "\n",
      "\n",
      "===== bathypelagic complete! =====\n",
      "\n",
      "\n",
      "===== mesopelagic complete! =====\n",
      "\n",
      "\n",
      "===== surface complete! =====\n",
      "\n"
     ]
    }
   ],
   "source": [
    "# depth extract\n",
    "os.chdir(r\"G:\\ResearchArticles\\CHI_yr\\hbt_mosaic\")\n",
    "files = sorted(glob('*.tif'))\n",
    "level = os.listdir(r\"G:\\ResearchArticles\\CHI_yr\\hbt_depth\")\n",
    "\n",
    "for h in level:\n",
    "    os.chdir(r\"G:\\ResearchArticles\\data\\bathymetry\")\n",
    "    mask = \"%s_gebco.tif\" % h\n",
    "    for tif in files:\n",
    "        out_raster = arcpy.sa.ExtractByMask(r\"G:\\ResearchArticles\\CHI_yr\\hbt_mosaic\\%s\" % tif, mask); \n",
    "        out_raster.save(r\"G:\\ResearchArticles\\CHI_yr\\hbt_depth\\%s\\%s_%s\" % (h, h, tif))\n",
    "    print(\"\\n===== %s complete! =====\\n\" % h)"
   ]
  },
  {
   "cell_type": "code",
   "execution_count": null,
   "metadata": {},
   "outputs": [],
   "source": []
  }
 ],
 "metadata": {
  "kernelspec": {
   "display_name": "Python 3",
   "language": "python",
   "name": "python3"
  },
  "language_info": {
   "codemirror_mode": {
    "name": "ipython",
    "version": 3
   },
   "file_extension": ".py",
   "mimetype": "text/x-python",
   "name": "python",
   "nbconvert_exporter": "python",
   "pygments_lexer": "ipython3",
   "version": "3.7.9"
  }
 },
 "nbformat": 4,
 "nbformat_minor": 4
}
