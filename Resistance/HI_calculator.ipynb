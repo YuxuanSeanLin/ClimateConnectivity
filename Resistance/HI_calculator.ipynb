{
 "cells": [
  {
   "cell_type": "code",
   "execution_count": 1,
   "metadata": {},
   "outputs": [],
   "source": [
    "import pandas as pd\n",
    "import os\n",
    "from glob import glob\n",
    "import arcpy\n",
    "from arcpy import env"
   ]
  },
  {
   "cell_type": "code",
   "execution_count": 2,
   "metadata": {},
   "outputs": [],
   "source": [
    "yr = '2006'\n",
    "\n",
    "wdir = 'F:/LinYuxuan/CHI_yr'\n",
    "vwmatrix = pd.read_csv('%s/vulnerability.csv' % wdir)\n",
    "vwmatrix.set_index('stressors', inplace=True)"
   ]
  },
  {
   "cell_type": "code",
   "execution_count": 3,
   "metadata": {},
   "outputs": [
    {
     "name": "stdout",
     "output_type": "stream",
     "text": [
      "====== error: surface: artisanal_fishing ======\n"
     ]
    },
    {
     "ename": "TypeError",
     "evalue": "can only concatenate str (not \"list\") to str",
     "output_type": "error",
     "traceback": [
      "\u001b[1;31m---------------------------------------------------------------------------\u001b[0m",
      "\u001b[1;31mKeyboardInterrupt\u001b[0m                         Traceback (most recent call last)",
      "\u001b[1;32m<ipython-input-3-56d20ce70361>\u001b[0m in \u001b[0;36m<module>\u001b[1;34m\u001b[0m\n\u001b[0;32m     37\u001b[0m             \u001b[0moutput_raster\u001b[0m \u001b[1;33m=\u001b[0m \u001b[0marcpy\u001b[0m\u001b[1;33m.\u001b[0m\u001b[0mia\u001b[0m\u001b[1;33m.\u001b[0m\u001b[0mRasterCalculator\u001b[0m\u001b[1;33m(\u001b[0m\u001b[0mrasters\u001b[0m\u001b[1;33m,\u001b[0m \u001b[0minput_names\u001b[0m\u001b[1;33m,\u001b[0m \u001b[0mexpression\u001b[0m\u001b[1;33m)\u001b[0m\u001b[1;33m;\u001b[0m\u001b[1;33m\u001b[0m\u001b[1;33m\u001b[0m\u001b[0m\n\u001b[1;32m---> 38\u001b[1;33m             \u001b[0moutput_raster\u001b[0m\u001b[1;33m.\u001b[0m\u001b[0msave\u001b[0m\u001b[1;33m(\u001b[0m\u001b[1;34m\"%s/HI_depth/%s/%s/HI_%s\"\u001b[0m \u001b[1;33m%\u001b[0m \u001b[1;33m(\u001b[0m\u001b[0mwdir\u001b[0m\u001b[1;33m,\u001b[0m \u001b[0myr\u001b[0m\u001b[1;33m,\u001b[0m \u001b[0mh\u001b[0m\u001b[1;33m,\u001b[0m \u001b[0msts\u001b[0m\u001b[1;33m)\u001b[0m\u001b[1;33m)\u001b[0m\u001b[1;33m\u001b[0m\u001b[1;33m\u001b[0m\u001b[0m\n\u001b[0m\u001b[0;32m     39\u001b[0m             \u001b[0mprint\u001b[0m\u001b[1;33m(\u001b[0m\u001b[1;34m\"%s: %s --- complete\"\u001b[0m \u001b[1;33m%\u001b[0m \u001b[1;33m(\u001b[0m\u001b[0mh\u001b[0m\u001b[1;33m,\u001b[0m \u001b[0msts_name\u001b[0m\u001b[1;33m)\u001b[0m\u001b[1;33m)\u001b[0m\u001b[1;33m\u001b[0m\u001b[1;33m\u001b[0m\u001b[0m\n",
      "\u001b[1;31mKeyboardInterrupt\u001b[0m: ",
      "\nDuring handling of the above exception, another exception occurred:\n",
      "\u001b[1;31mTypeError\u001b[0m                                 Traceback (most recent call last)",
      "\u001b[1;32m<ipython-input-3-56d20ce70361>\u001b[0m in \u001b[0;36m<module>\u001b[1;34m\u001b[0m\n\u001b[0;32m     41\u001b[0m             \u001b[0mprint\u001b[0m\u001b[1;33m(\u001b[0m\u001b[1;34m\"====== error: %s: %s ======\"\u001b[0m \u001b[1;33m%\u001b[0m \u001b[1;33m(\u001b[0m\u001b[0mh\u001b[0m\u001b[1;33m,\u001b[0m \u001b[0msts_name\u001b[0m\u001b[1;33m)\u001b[0m\u001b[1;33m)\u001b[0m\u001b[1;33m\u001b[0m\u001b[1;33m\u001b[0m\u001b[0m\n\u001b[0;32m     42\u001b[0m             \u001b[1;32mwith\u001b[0m \u001b[0mopen\u001b[0m\u001b[1;33m(\u001b[0m\u001b[1;34m\"%s/HI_depth/log_%s_%s.txt\"\u001b[0m \u001b[1;33m%\u001b[0m \u001b[1;33m(\u001b[0m\u001b[0mwdir\u001b[0m\u001b[1;33m,\u001b[0m \u001b[0myr\u001b[0m\u001b[1;33m,\u001b[0m \u001b[0mh\u001b[0m\u001b[1;33m)\u001b[0m\u001b[1;33m,\u001b[0m \u001b[1;34m'a'\u001b[0m\u001b[1;33m)\u001b[0m \u001b[1;32mas\u001b[0m \u001b[0mt\u001b[0m\u001b[1;33m:\u001b[0m\u001b[1;33m\u001b[0m\u001b[1;33m\u001b[0m\u001b[0m\n\u001b[1;32m---> 43\u001b[1;33m                 \u001b[0mt\u001b[0m\u001b[1;33m.\u001b[0m\u001b[0mwrite\u001b[0m\u001b[1;33m(\u001b[0m\u001b[0msts_name\u001b[0m \u001b[1;33m+\u001b[0m \u001b[1;34m'\\n'\u001b[0m \u001b[1;33m+\u001b[0m \u001b[0mexpression\u001b[0m \u001b[1;33m+\u001b[0m \u001b[1;34m'\\n'\u001b[0m \u001b[1;33m+\u001b[0m \u001b[0mrasters\u001b[0m \u001b[1;33m+\u001b[0m \u001b[1;34m'\\n'\u001b[0m \u001b[1;33m+\u001b[0m \u001b[0minput_names\u001b[0m \u001b[1;33m+\u001b[0m \u001b[1;34m'\\n\\n'\u001b[0m \u001b[1;33m)\u001b[0m\u001b[1;33m\u001b[0m\u001b[1;33m\u001b[0m\u001b[0m\n\u001b[0m\u001b[0;32m     44\u001b[0m \u001b[1;33m\u001b[0m\u001b[0m\n",
      "\u001b[1;31mTypeError\u001b[0m: can only concatenate str (not \"list\") to str"
     ]
    }
   ],
   "source": [
    "os.mkdir(\"%s/HI_depth/%s\" % (wdir, yr))\n",
    "\n",
    "for h in ['surface', 'mesopelagic', 'bathypelagic', 'abyssopelagic']:\n",
    "    os.mkdir(\"%s/HI_depth/%s/%s\" % (wdir, yr, h))\n",
    "    \n",
    "    # list habitats files\n",
    "    os.chdir(\"%s/hbt_depth/%s\" % (wdir, h))\n",
    "    habitats = sorted(glob('*.tif'))\n",
    "    # list stressors files\n",
    "    os.chdir(\"%s/stressors_depth/%s\" % (wdir, yr))\n",
    "    stressors = sorted(glob('*.tif'))    \n",
    "    \n",
    "    env.workspace = \"%s/hbt_depth/%s\" % (wdir, h)\n",
    "    \n",
    "    for sts in stressors:\n",
    "        try:\n",
    "            sts_name = sts[0 : len(sts) - 18]\n",
    "            sts_path = \"%s/stressors_depth/%s/%s\" % (wdir, yr, sts)\n",
    "            num_of_factors = len(habitats)\n",
    "\n",
    "            expression = ''\n",
    "            rasters = []\n",
    "            input_names = []\n",
    "\n",
    "            for hbt in habitats:\n",
    "                hbt_name = hbt[len(h) + 1 : len(hbt) - 4]\n",
    "                factor = str(vwmatrix.loc[sts_name, hbt_name])\n",
    "                expression = expression + hbt_name + '*' + factor + '+'\n",
    "                rasters.append(hbt)\n",
    "                input_names.append(hbt_name)\n",
    "\n",
    "            expression = expression[0 : len(expression) - 1]\n",
    "            rasters.append(sts_path)\n",
    "            input_names.append(sts_name)\n",
    "            expression = ' ( %s ) * %s / %s' % (expression, sts_name, num_of_factors)\n",
    "\n",
    "            output_raster = arcpy.ia.RasterCalculator(rasters, input_names, expression); \n",
    "            output_raster.save(\"%s/HI_depth/%s/%s/HI_%s\" % (wdir, yr, h, sts))\n",
    "            print(\"%s: %s --- complete\" % (h, sts_name))\n",
    "        except:\n",
    "            print(\"====== error: %s: %s ======\" % (h, sts_name))\n",
    "            with open(\"%s/HI_depth/log_%s_%s.txt\" % (wdir, yr, h), 'a') as t:\n",
    "                t.write(sts_name + '\\n' + expression + '\\n' + rasters + '\\n' + input_names + '\\n\\n' )\n",
    "        "
   ]
  },
  {
   "cell_type": "code",
   "execution_count": null,
   "metadata": {},
   "outputs": [],
   "source": []
  }
 ],
 "metadata": {
  "kernelspec": {
   "display_name": "Python 3",
   "language": "python",
   "name": "python3"
  },
  "language_info": {
   "codemirror_mode": {
    "name": "ipython",
    "version": 3
   },
   "file_extension": ".py",
   "mimetype": "text/x-python",
   "name": "python",
   "nbconvert_exporter": "python",
   "pygments_lexer": "ipython3",
   "version": "3.7.9"
  }
 },
 "nbformat": 4,
 "nbformat_minor": 4
}
