{
 "cells": [
  {
   "cell_type": "code",
   "execution_count": 1,
   "metadata": {},
   "outputs": [],
   "source": [
    "import pandas as pd\n",
    "import os\n",
    "from glob import glob\n",
    "import arcpy\n",
    "from arcpy import env"
   ]
  },
  {
   "cell_type": "code",
   "execution_count": 2,
   "metadata": {},
   "outputs": [],
   "source": [
    "wdir = ''\n",
    "vwmatrix = pd.read_csv('%s/vulnerability.csv' % wdir)\n",
    "vwmatrix.set_index('stressors', inplace=True)"
   ]
  },
  {
   "cell_type": "code",
   "execution_count": null,
   "metadata": {},
   "outputs": [],
   "source": [
    "for yr in range(2003, 2014):\n",
    "    for h in ['surface','mesopelagic','bathypelagic','abyssopelagic']:\n",
    "        # list habitats files\n",
    "        os.chdir(\"%s/Habitat/%s\" % (wdir, h))\n",
    "        habitats = sorted(glob('*.tif'))\n",
    "\n",
    "        # list stressors files\n",
    "        os.chdir(\"%s/Stressor/%s\" % (wdir, yr))\n",
    "        stressors = sorted(glob('*.tif'))    \n",
    "\n",
    "        for sts in stressors:\n",
    "            sts_name = sts[0 : len(sts) - 18]\n",
    "            sts_path = \"%s/Stressor/%s/%s\" % (wdir, yr, sts)\n",
    "            num_of_factors = len(habitats)\n",
    "\n",
    "            expression = ''\n",
    "            rasters = []\n",
    "            input_names = []\n",
    "\n",
    "            for hbt in habitats:\n",
    "                hbt_name = hbt[len(h) + 1 : len(hbt) - 4]\n",
    "                factor = str(vwmatrix.loc[sts_name, hbt_name])\n",
    "                expression = expression + hbt_name + '*' + factor + '+'\n",
    "                rasters.append(hbt)\n",
    "                input_names.append(hbt_name)\n",
    "\n",
    "            expression = expression[0 : len(expression) - 1]\n",
    "            rasters.append(sts_path)\n",
    "            input_names.append(sts_name)\n",
    "            expression = ' ( %s ) * %s / %s' % (expression, sts_name, num_of_factors)\n",
    "\n",
    "            env.workspace = \"%s/Habitat/%s\" % (wdir, h)\n",
    "            output_raster = arcpy.ia.RasterCalculator(rasters, input_names, expression); \n",
    "            output_raster.save(\"%s/HI_%s\" % (wdir, sts))\n",
    "            print(\"%s: %s --- complete\" % (h, sts_name))\n",
    "        "
   ]
  }
 ],
 "metadata": {
  "kernelspec": {
   "display_name": "Python 3",
   "language": "python",
   "name": "python3"
  },
  "language_info": {
   "codemirror_mode": {
    "name": "ipython",
    "version": 3
   },
   "file_extension": ".py",
   "mimetype": "text/x-python",
   "name": "python",
   "nbconvert_exporter": "python",
   "pygments_lexer": "ipython3",
   "version": "3.8.8"
  }
 },
 "nbformat": 4,
 "nbformat_minor": 4
}
