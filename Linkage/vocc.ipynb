{
 "cells": [
  {
   "cell_type": "code",
   "execution_count": 1,
   "metadata": {},
   "outputs": [],
   "source": [
    "import os\n",
    "from glob import glob\n",
    "import arcpy\n",
    "from arcpy import env"
   ]
  },
  {
   "cell_type": "code",
   "execution_count": null,
   "metadata": {},
   "outputs": [],
   "source": [
    "# extract passing-by patches of each traectory lines\n",
    "os.chdir('D:/')\n",
    "env.workspace = 'D:/'\n",
    "\n",
    "for depth in ['surface', 'mesopelagic', 'bathypelagic', 'abyssopelagic']:\n",
    "    for scen in ['ssp245', 'ssp585']:\n",
    "        patch_name = 'cc/patch_id/'+depth+'/patch_'+depth+'_present.tif'\n",
    "        \n",
    "        # trajectory lines path\n",
    "        traj_lns_path = 'vocc/step3_trajlns_byp/'+depth+'/'+scen\n",
    "        \n",
    "        for trajs in os.listdir(traj_lns_path):\n",
    "            if '.shp' in trajs:\n",
    "                traj_lns_name = traj_lns_path+'/'+trajs\n",
    "                traj_to_path = traj_lns_name.split('.shp')[0]+'.tif'\n",
    "                \n",
    "                # extract by mask\n",
    "                out_raster = arcpy.sa.ExtractByMask(patch_name, traj_lns_name); out_raster.save(traj_to_path)\n",
    "        \n",
    "        print(depth+'-'+scen+'-complete')"
   ]
  }
 ],
 "metadata": {
  "kernelspec": {
   "display_name": "Python 3",
   "language": "python",
   "name": "python3"
  },
  "language_info": {
   "codemirror_mode": {
    "name": "ipython",
    "version": 3
   },
   "file_extension": ".py",
   "mimetype": "text/x-python",
   "name": "python",
   "nbconvert_exporter": "python",
   "pygments_lexer": "ipython3",
   "version": "3.7.10"
  }
 },
 "nbformat": 4,
 "nbformat_minor": 5
}
