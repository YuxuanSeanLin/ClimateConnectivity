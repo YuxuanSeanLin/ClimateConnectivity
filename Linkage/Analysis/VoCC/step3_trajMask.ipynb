{
 "cells": [
  {
   "cell_type": "code",
   "execution_count": 1,
   "metadata": {},
   "outputs": [],
   "source": [
    "import os\n",
    "from glob import glob\n",
    "import arcpy\n",
    "from arcpy import env"
   ]
  },
  {
   "cell_type": "code",
   "execution_count": 2,
   "metadata": {},
   "outputs": [],
   "source": [
    "# extract passing-by patches of each traectory lines\n",
    "os.chdir(r'D:\\LinkageMapper\\Statistics\\vocc')\n",
    "env.workspace = r'D:\\LinkageMapper\\Statistics\\vocc'\n",
    "\n",
    "for depth in ['surface', 'mesopelagic', 'bathypelagic', 'abyssopelagic']:\n",
    "    for scen in ['ssp126', 'ssp245', 'ssp370', 'ssp585']:\n",
    "        for yr in ['2020', '2030', '2040', '2050']:\n",
    "            # define patch path \n",
    "            if yr == '2020':\n",
    "                patch_name = 'patch_id/'+depth+'/patch_'+depth+'_present.tif'\n",
    "            else:\n",
    "                patch_name = 'patch_id/'+depth+'/'+scen+'/patch_'+depth+'_'+scen+'_'+yr+'.tif'\n",
    "            \n",
    "            # trajectory lines path\n",
    "            traj_lns_path = 'traj_lines_bypatch/'+depth+'/'+scen+'/'+yr\n",
    "            \n",
    "            for trajs in os.listdir(traj_lns_path):\n",
    "                if '.shp' in trajs:\n",
    "                    traj_lns_name = traj_lns_path+'/'+trajs\n",
    "                    traj_to_path = traj_lns_name.split('.shp')[0]+'.tif'\n",
    "                    \n",
    "                    # extract by mask\n",
    "                    out_raster = arcpy.sa.ExtractByMask(patch_name, traj_lns_name); out_raster.save(traj_to_path)\n",
    "            \n",
    "            print(depth+'-'+scen+'-'+yr+'-complete')\n"
   ]
  }
 ],
 "metadata": {
  "kernelspec": {
   "display_name": "Python 3",
   "language": "python",
   "name": "python3"
  },
  "language_info": {
   "codemirror_mode": {
    "name": "ipython",
    "version": 3
   },
   "file_extension": ".py",
   "mimetype": "text/x-python",
   "name": "python",
   "nbconvert_exporter": "python",
   "pygments_lexer": "ipython3",
   "version": "3.7.10"
  }
 },
 "nbformat": 4,
 "nbformat_minor": 4
}
