{
 "cells": [
  {
   "cell_type": "code",
   "execution_count": 1,
   "metadata": {},
   "outputs": [],
   "source": [
    "import xarray as xr\n",
    "import rioxarray as rio\n",
    "import os\n",
    "from glob import glob"
   ]
  },
  {
   "cell_type": "code",
   "execution_count": null,
   "metadata": {},
   "outputs": [],
   "source": [
    "wd=''\n",
    "\n",
    "years = list(range(2020, 2101))\n",
    "for scen in ['ssp126', 'ssp245', 'ssp585']:\n",
    "    for yr in years:\n",
    "        os.chdir('%s/cmip6_remap/%s/%s' % (wd, scen, yr))\n",
    "        files = sorted(glob('*.nc'))\n",
    "        for f in files:\n",
    "            ds = xr.open_dataset(f, decode_times=False)\n",
    "            dirname = f.split('_')[2]\n",
    "            os.mkdir('%s/cmip6_dp/surface/%s/%s/%s' % (wd, scen, yr, dirname))\n",
    "            os.mkdir('%s/cmip6_dp/mesopelagic/%s/%s/%s' % (wd, scen, yr, dirname))\n",
    "            os.mkdir('%s/cmip6_dp/bathypelagic/%s/%s/%s' % (wd, scen, yr, dirname))\n",
    "            os.mkdir('%s/cmip6_dp/abyssopelagic/%s/%s/%s' % (wd, scen, yr, dirname))\n",
    "                \n",
    "            try:\n",
    "                for h,data in ds.groupby('lev'):\n",
    "                    data = data.thetao \n",
    "                    h = int(round(h, 0)) \n",
    "\n",
    "                    # judge by depths\n",
    "                    if h < 200:\n",
    "                        out_name = os.path.join('%s/cmip6_dp/surface/%s/%s/%s' % (wd, scen, yr, dirname), \n",
    "                                                '%s.tif' % h)\n",
    "                    elif h < 1000:\n",
    "                        out_name = os.path.join('%s/cmip6_dp/mesopelagic/%s/%s/%s' % (wd, scen, yr, dirname), \n",
    "                                                '%s.tif' % h)\n",
    "                    elif h < 4000:\n",
    "                        out_name = os.path.join('%s/cmip6_dp/bathypelagic/%s/%s/%s' % (wd, scen, yr, dirname), \n",
    "                                                '%s.tif' % h)\n",
    "                    else:\n",
    "                        out_name = os.path.join('%s/cmip6_dp/abyssopelagic/%s/%s/%s' % (wd, scen, yr, dirname), \n",
    "                                                '%s.tif' % h)\n",
    "\n",
    "                    outdata = data.transpose('time', 'lat', 'lon')\n",
    "                    outdata = outdata.rio.set_spatial_dims(x_dim='lon',y_dim='lat')\n",
    "                    outdata = outdata.rio.set_crs(\"epsg:4326\")\n",
    "                    outdata.rio.to_raster(out_name) \n",
    "\n",
    "            except:\n",
    "                pass\n",
    "            \n",
    "        print(\"year: %s --- finished\" % yr)\n",
    "            \n",
    "    print(\" ## == %s --- finished == ##\" % scen)"
   ]
  }
 ],
 "metadata": {
  "kernelspec": {
   "display_name": "Python 3",
   "language": "python",
   "name": "python3"
  },
  "language_info": {
   "codemirror_mode": {
    "name": "ipython",
    "version": 3
   },
   "file_extension": ".py",
   "mimetype": "text/x-python",
   "name": "python",
   "nbconvert_exporter": "python",
   "pygments_lexer": "ipython3",
   "version": "3.7.10"
  }
 },
 "nbformat": 4,
 "nbformat_minor": 4
}
