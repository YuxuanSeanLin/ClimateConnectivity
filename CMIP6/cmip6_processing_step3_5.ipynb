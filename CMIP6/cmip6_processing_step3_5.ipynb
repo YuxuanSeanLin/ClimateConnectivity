{
 "cells": [
  {
   "cell_type": "code",
   "execution_count": 1,
   "metadata": {},
   "outputs": [],
   "source": [
    "import os\n",
    "from glob import glob\n",
    "import arcpy\n",
    "from arcpy import env"
   ]
  },
  {
   "cell_type": "code",
   "execution_count": null,
   "metadata": {},
   "outputs": [],
   "source": [
    "## step3: IDW interpolation ##\n",
    "\n",
    "wd = 'D:/cmip6'\n",
    "\n",
    "for depth in ['surface', 'mesopelagic', 'bathypelagic', 'abyssopelagic']:\n",
    "    masktif = '%s/topo/%s.tif' % (wd, depth)\n",
    "    for scen in ['ssp126', 'ssp245', 'ssp585']:\n",
    "        for yr in range(2020,2101):\n",
    "            env.workspace = '%s/step2_cmip6_expand/%s/%s/%s' % (wd, depth, scen, yr)\n",
    "            os.chdir('%s/step3_cmip6_idw/%s/%s/%s' % (wd, depth, scen, yr))\n",
    "            files = sorted(glob(\"*shp\"))\n",
    "            for f in files:\n",
    "                name = f.split('.shp')[0]\n",
    "                to_path = \"%s/step3_cmip6_idw/%s/%s/%s/%s.tif\" % (wd, depth, scen, yr, name)\n",
    "                with arcpy.EnvManager(mask=masktif, extent=\"-180 -90 180 90\"):\n",
    "                    arcpy.gp.Idw_sa(f, \"value\", to_path, \"1\", \"3\", \"VARIABLE 12\", \"\")\n",
    "\n",
    "            print(\"%s - %s - %s - complete\" % (depth, scen, yr)) "
   ]
  },
  {
   "cell_type": "code",
   "execution_count": null,
   "metadata": {},
   "outputs": [],
   "source": [
    "## step5: smooth data by moving-window averaging ##\n",
    "\n",
    "for depth in ['surface', 'mesopelagic', 'bathypelagic', 'abyssopelagic']:\n",
    "    masktif = '%s/topo/%s.tif' % (wd, depth)\n",
    "    for scen in ['ssp126', 'ssp245', 'ssp585']:\n",
    "        from_path = '%s/step4_cmip6_mdmean/%s/%s' % (wd, depth, scen)\n",
    "        to_path = '%s/step5_cmip6_smooth/%s/%s' % (wd, depth, scen)\n",
    "        \n",
    "        os.chdir(from_path)\n",
    "        files = sorted(glob(\"*tif\"))\n",
    "        for f in files:\n",
    "            with arcpy.EnvManager(mask=masktif, extent=\"-180 -90 180 90\"):\n",
    "                out_raster = arcpy.ia.FocalStatistics(f, \"Rectangle 3 3 CELL\", \"MEAN\"); \n",
    "                out_raster.save(\"%s/%s\" % (to_path, f))\n",
    "            print(\"%s finish\" % f)\n",
    "        print(\"======== %s - %s: complete ========\" % (depth, scen))"
   ]
  }
 ],
 "metadata": {
  "kernelspec": {
   "display_name": "Python 3",
   "language": "python",
   "name": "python3"
  },
  "language_info": {
   "codemirror_mode": {
    "name": "ipython",
    "version": 3
   },
   "file_extension": ".py",
   "mimetype": "text/x-python",
   "name": "python",
   "nbconvert_exporter": "python",
   "pygments_lexer": "ipython3",
   "version": "3.7.10"
  }
 },
 "nbformat": 4,
 "nbformat_minor": 5
}
