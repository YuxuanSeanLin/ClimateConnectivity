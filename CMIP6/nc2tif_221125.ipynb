{
 "cells": [
  {
   "cell_type": "code",
   "execution_count": 2,
   "metadata": {
    "scrolled": true
   },
   "outputs": [
    {
     "ename": "ImportError",
     "evalue": "cannot import name 'NDArray' from 'numpy.typing' (D:\\Anaconda3\\lib\\site-packages\\numpy\\typing\\__init__.py)",
     "output_type": "error",
     "traceback": [
      "\u001b[1;31m---------------------------------------------------------------------------\u001b[0m",
      "\u001b[1;31mImportError\u001b[0m                               Traceback (most recent call last)",
      "\u001b[1;32m<ipython-input-2-0699bae98a08>\u001b[0m in \u001b[0;36m<module>\u001b[1;34m\u001b[0m\n\u001b[0;32m      1\u001b[0m \u001b[1;32mimport\u001b[0m \u001b[0mxarray\u001b[0m \u001b[1;32mas\u001b[0m \u001b[0mxr\u001b[0m\u001b[1;33m\u001b[0m\u001b[1;33m\u001b[0m\u001b[0m\n\u001b[1;32m----> 2\u001b[1;33m \u001b[1;32mimport\u001b[0m \u001b[0mrioxarray\u001b[0m \u001b[1;32mas\u001b[0m \u001b[0mrio\u001b[0m\u001b[1;33m\u001b[0m\u001b[1;33m\u001b[0m\u001b[0m\n\u001b[0m\u001b[0;32m      3\u001b[0m \u001b[1;32mimport\u001b[0m \u001b[0mos\u001b[0m\u001b[1;33m\u001b[0m\u001b[1;33m\u001b[0m\u001b[0m\n\u001b[0;32m      4\u001b[0m \u001b[1;32mfrom\u001b[0m \u001b[0mglob\u001b[0m \u001b[1;32mimport\u001b[0m \u001b[0mglob\u001b[0m\u001b[1;33m\u001b[0m\u001b[1;33m\u001b[0m\u001b[0m\n",
      "\u001b[1;32mD:\\Anaconda3\\lib\\site-packages\\rioxarray\\__init__.py\u001b[0m in \u001b[0;36m<module>\u001b[1;34m\u001b[0m\n\u001b[0;32m      3\u001b[0m \u001b[1;32mimport\u001b[0m \u001b[0mimportlib\u001b[0m\u001b[1;33m.\u001b[0m\u001b[0mmetadata\u001b[0m\u001b[1;33m\u001b[0m\u001b[1;33m\u001b[0m\u001b[0m\n\u001b[0;32m      4\u001b[0m \u001b[1;33m\u001b[0m\u001b[0m\n\u001b[1;32m----> 5\u001b[1;33m \u001b[1;32mimport\u001b[0m \u001b[0mrioxarray\u001b[0m\u001b[1;33m.\u001b[0m\u001b[0mraster_array\u001b[0m  \u001b[1;31m# noqa\u001b[0m\u001b[1;33m\u001b[0m\u001b[1;33m\u001b[0m\u001b[0m\n\u001b[0m\u001b[0;32m      6\u001b[0m \u001b[1;32mimport\u001b[0m \u001b[0mrioxarray\u001b[0m\u001b[1;33m.\u001b[0m\u001b[0mraster_dataset\u001b[0m  \u001b[1;31m# noqa\u001b[0m\u001b[1;33m\u001b[0m\u001b[1;33m\u001b[0m\u001b[0m\n\u001b[0;32m      7\u001b[0m \u001b[1;32mfrom\u001b[0m \u001b[0mrioxarray\u001b[0m\u001b[1;33m.\u001b[0m\u001b[0m_io\u001b[0m \u001b[1;32mimport\u001b[0m \u001b[0mopen_rasterio\u001b[0m  \u001b[1;31m# noqa\u001b[0m\u001b[1;33m\u001b[0m\u001b[1;33m\u001b[0m\u001b[0m\n",
      "\u001b[1;32mD:\\Anaconda3\\lib\\site-packages\\rioxarray\\raster_array.py\u001b[0m in \u001b[0;36m<module>\u001b[1;34m\u001b[0m\n\u001b[0;32m     47\u001b[0m     \u001b[0mRioXarrayError\u001b[0m\u001b[1;33m,\u001b[0m\u001b[1;33m\u001b[0m\u001b[1;33m\u001b[0m\u001b[0m\n\u001b[0;32m     48\u001b[0m )\n\u001b[1;32m---> 49\u001b[1;33m from rioxarray.raster_writer import (\n\u001b[0m\u001b[0;32m     50\u001b[0m     \u001b[0mFILL_VALUE_NAMES\u001b[0m\u001b[1;33m,\u001b[0m\u001b[1;33m\u001b[0m\u001b[1;33m\u001b[0m\u001b[0m\n\u001b[0;32m     51\u001b[0m     \u001b[0mUNWANTED_RIO_ATTRS\u001b[0m\u001b[1;33m,\u001b[0m\u001b[1;33m\u001b[0m\u001b[1;33m\u001b[0m\u001b[0m\n",
      "\u001b[1;32mD:\\Anaconda3\\lib\\site-packages\\rioxarray\\raster_writer.py\u001b[0m in \u001b[0;36m<module>\u001b[1;34m\u001b[0m\n\u001b[0;32m     16\u001b[0m \u001b[1;32mfrom\u001b[0m \u001b[0mxarray\u001b[0m\u001b[1;33m.\u001b[0m\u001b[0mconventions\u001b[0m \u001b[1;32mimport\u001b[0m \u001b[0mencode_cf_variable\u001b[0m\u001b[1;33m\u001b[0m\u001b[1;33m\u001b[0m\u001b[0m\n\u001b[0;32m     17\u001b[0m \u001b[1;33m\u001b[0m\u001b[0m\n\u001b[1;32m---> 18\u001b[1;33m \u001b[1;32mfrom\u001b[0m \u001b[0mrioxarray\u001b[0m\u001b[1;33m.\u001b[0m\u001b[0m_io\u001b[0m \u001b[1;32mimport\u001b[0m \u001b[0m_get_unsigned_dtype\u001b[0m\u001b[1;33m\u001b[0m\u001b[1;33m\u001b[0m\u001b[0m\n\u001b[0m\u001b[0;32m     19\u001b[0m \u001b[1;32mfrom\u001b[0m \u001b[0mrioxarray\u001b[0m\u001b[1;33m.\u001b[0m\u001b[0mexceptions\u001b[0m \u001b[1;32mimport\u001b[0m \u001b[0mRioXarrayError\u001b[0m\u001b[1;33m\u001b[0m\u001b[1;33m\u001b[0m\u001b[0m\n\u001b[0;32m     20\u001b[0m \u001b[1;33m\u001b[0m\u001b[0m\n",
      "\u001b[1;32mD:\\Anaconda3\\lib\\site-packages\\rioxarray\\_io.py\u001b[0m in \u001b[0;36m<module>\u001b[1;34m\u001b[0m\n\u001b[0;32m     19\u001b[0m \u001b[1;32mimport\u001b[0m \u001b[0mnumpy\u001b[0m \u001b[1;32mas\u001b[0m \u001b[0mnp\u001b[0m\u001b[1;33m\u001b[0m\u001b[1;33m\u001b[0m\u001b[0m\n\u001b[0;32m     20\u001b[0m \u001b[1;32mimport\u001b[0m \u001b[0mrasterio\u001b[0m\u001b[1;33m\u001b[0m\u001b[1;33m\u001b[0m\u001b[0m\n\u001b[1;32m---> 21\u001b[1;33m \u001b[1;32mfrom\u001b[0m \u001b[0mnumpy\u001b[0m\u001b[1;33m.\u001b[0m\u001b[0mtyping\u001b[0m \u001b[1;32mimport\u001b[0m \u001b[0mNDArray\u001b[0m\u001b[1;33m\u001b[0m\u001b[1;33m\u001b[0m\u001b[0m\n\u001b[0m\u001b[0;32m     22\u001b[0m \u001b[1;32mfrom\u001b[0m \u001b[0mpackaging\u001b[0m \u001b[1;32mimport\u001b[0m \u001b[0mversion\u001b[0m\u001b[1;33m\u001b[0m\u001b[1;33m\u001b[0m\u001b[0m\n\u001b[0;32m     23\u001b[0m \u001b[1;32mfrom\u001b[0m \u001b[0mrasterio\u001b[0m\u001b[1;33m.\u001b[0m\u001b[0merrors\u001b[0m \u001b[1;32mimport\u001b[0m \u001b[0mNotGeoreferencedWarning\u001b[0m\u001b[1;33m\u001b[0m\u001b[1;33m\u001b[0m\u001b[0m\n",
      "\u001b[1;31mImportError\u001b[0m: cannot import name 'NDArray' from 'numpy.typing' (D:\\Anaconda3\\lib\\site-packages\\numpy\\typing\\__init__.py)"
     ]
    }
   ],
   "source": [
    "import xarray as xr\n",
    "import rioxarray as rio\n",
    "import os\n",
    "from glob import glob"
   ]
  },
  {
   "cell_type": "code",
   "execution_count": null,
   "metadata": {},
   "outputs": [],
   "source": [
    "wd='L:/cmip6_re'\n",
    "\n",
    "os.mkdir('%s/cmip_dp' % wd)\n",
    "years = list(range(2020, 2101))\n",
    "for depth in ['surface', 'mesopelagic', 'bathypelagic', 'abyssopelagic']:\n",
    "    os.mkdir(\"%s/cmip_dp/%s\" % (wd, depth))\n",
    "    for scen in ['ssp126', 'ssp245', 'ssp585']:\n",
    "        os.mkdir(\"%s/cmip_dp/%s/%s\" % (wd, depth, scen))\n",
    "        for yr in years:\n",
    "            os.mkdir(\"%s/cmip_dp/%s/%s/%s\" % (wd, depth, scen, yr))"
   ]
  },
  {
   "cell_type": "code",
   "execution_count": null,
   "metadata": {},
   "outputs": [],
   "source": [
    "for scen in ['ssp126', 'ssp245', 'ssp585']:\n",
    "    for yr in years:\n",
    "        os.chdir('%s/cmip_remap/%s/%s' % (wd, scen, yr))\n",
    "        files = sorted(glob('*.nc'))\n",
    "        for f in files:\n",
    "            ds = xr.open_dataset(f, decode_times=False)\n",
    "            dirname = f.split('_')[2]\n",
    "            os.mkdir('%s/cmip_dp/surface/%s/%s/%s' % (wd, scen, yr, dirname))\n",
    "            os.mkdir('%s/cmip_dp/mesopelagic/%s/%s/%s' % (wd, scen, yr, dirname))\n",
    "            os.mkdir('%s/cmip_dp/bathypelagic/%s/%s/%s' % (wd, scen, yr, dirname))\n",
    "            os.mkdir('%s/cmip_dp/abyssopelagic/%s/%s/%s' % (wd, scen, yr, dirname))\n",
    "                \n",
    "            try:\n",
    "                for h,data in ds.groupby('lev'):\n",
    "                    data = data.thetao \n",
    "                    h = int(round(h, 0)) \n",
    "\n",
    "                    # judge by depths\n",
    "                    if h < 200:\n",
    "                        out_name = os.path.join('%s/cmip_dp/surface/%s/%s/%s' % (wd, scen, yr, dirname), \n",
    "                                                '%s.tif' % h)\n",
    "                    elif h < 1000:\n",
    "                        out_name = os.path.join('%s/cmip_dp/mesopelagic/%s/%s/%s' % (wd, scen, yr, dirname), \n",
    "                                                '%s.tif' % h)\n",
    "                    elif h < 4000:\n",
    "                        out_name = os.path.join('%s/cmip_dp/bathypelagic/%s/%s/%s' % (wd, scen, yr, dirname), \n",
    "                                                '%s.tif' % h)\n",
    "                    else:\n",
    "                        out_name = os.path.join('%s/cmip_dp/abyssopelagic/%s/%s/%s' % (wd, scen, yr, dirname), \n",
    "                                                '%s.tif' % h)\n",
    "\n",
    "                    outdata = data.transpose('time', 'lat', 'lon')\n",
    "                    outdata = outdata.rio.set_spatial_dims(x_dim='lon',y_dim='lat')\n",
    "                    outdata = outdata.rio.set_crs(\"epsg:4326\")\n",
    "                    outdata.rio.to_raster(out_name) \n",
    "\n",
    "            except:\n",
    "                pass\n",
    "            \n",
    "        print(\"year: %s --- finished\" % yr)\n",
    "            \n",
    "    print(\" ## == %s --- finished == ##\" % scen)"
   ]
  }
 ],
 "metadata": {
  "kernelspec": {
   "display_name": "Python 3",
   "language": "python",
   "name": "python3"
  },
  "language_info": {
   "codemirror_mode": {
    "name": "ipython",
    "version": 3
   },
   "file_extension": ".py",
   "mimetype": "text/x-python",
   "name": "python",
   "nbconvert_exporter": "python",
   "pygments_lexer": "ipython3",
   "version": "3.8.8"
  }
 },
 "nbformat": 4,
 "nbformat_minor": 4
}
