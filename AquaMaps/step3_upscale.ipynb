{
 "cells": [
  {
   "cell_type": "code",
   "execution_count": 1,
   "metadata": {},
   "outputs": [],
   "source": [
    "import os\n",
    "from glob import glob\n",
    "import arcpy\n",
    "from arcpy import env"
   ]
  },
  {
   "cell_type": "code",
   "execution_count": null,
   "metadata": {},
   "outputs": [],
   "source": [
    "# zonal statistics to TIFF\n",
    "# calculate number of cells out of four\n",
    "\n",
    "from_dir = ''\n",
    "to_dir = ''\n",
    "for h in ['surface', 'mesopelagic', 'bathypelagic', 'abyssopelagic']:\n",
    "    domain = \"fishnet/%s.shp\" % h\n",
    "    phylums = os.listdir(\"%s/%s\" % (from_dir, h))\n",
    "    for p in phylums:\n",
    "        os.chdir(\"%s/%s/%s\" % (from_dir, h, p))\n",
    "        files = sorted(glob(\"*tif\"))\n",
    "        env.workspace = \"%s/%s/%s\" % (from_dir, h, p)\n",
    "        for f in files:\n",
    "            out_raster = arcpy.sa.ZonalStatistics(domain, \"Id\", f, \"SUM\", \"DATA\"); \n",
    "            out_raster.save(\"%s/%s/%s/%s\" % (to_dir, h, p, f))\n",
    "        print(\"-- %s %s: complete --\" % (h, p))"
   ]
  },
  {
   "cell_type": "code",
   "execution_count": null,
   "metadata": {},
   "outputs": [],
   "source": [
    "# resample to one degree TIFF\n",
    "\n",
    "from_dir = ''\n",
    "to_dir = ''\n",
    "for h in ['surface', 'mesopelagic', 'bathypelagic', 'abyssopelagic']:\n",
    "    phylums = os.listdir(\"%s/%s\" % (from_dir, h))\n",
    "    for p in phylums:\n",
    "        try:\n",
    "            os.chdir(\"%s/%s/%s\" % (from_dir, h, p))\n",
    "            files = sorted(glob(\"*tif\"))\n",
    "            env.workspace = \"%s/%s/%s\" % (from_dir, h, p)\n",
    "            for f in files:\n",
    "                output = \"%s/%s/%s/%s\" % (to_dir, h, p, f)\n",
    "                arcpy.management.Resample(f, output, \"1 1\", \"NEAREST\")\n",
    "            print(\"-- %s %s: complete --\" % (h, p))\n",
    "        except:\n",
    "            pass"
   ]
  }
 ],
 "metadata": {
  "kernelspec": {
   "display_name": "Python 3",
   "language": "python",
   "name": "python3"
  },
  "language_info": {
   "codemirror_mode": {
    "name": "ipython",
    "version": 3
   },
   "file_extension": ".py",
   "mimetype": "text/x-python",
   "name": "python",
   "nbconvert_exporter": "python",
   "pygments_lexer": "ipython3",
   "version": "3.8.8"
  }
 },
 "nbformat": 4,
 "nbformat_minor": 4
}
