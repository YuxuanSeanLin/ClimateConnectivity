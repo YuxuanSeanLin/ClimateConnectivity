{
 "cells": [
  {
   "cell_type": "code",
   "execution_count": 1,
   "metadata": {},
   "outputs": [],
   "source": [
    "import os\n",
    "from glob import glob\n",
    "import arcpy\n",
    "from arcpy import env"
   ]
  },
  {
   "cell_type": "code",
   "execution_count": null,
   "metadata": {},
   "outputs": [],
   "source": [
    "# zonal statistics to TIFF\n",
    "# calculate number of cells out of four\n",
    "\n",
    "from_dir = ''\n",
    "to_dir = ''\n",
    "for h in ['surface', 'mesopelagic', 'bathypelagic', 'abyssopelagic']:\n",
    "    domain = \"fishnet/%s.shp\" % h\n",
    "    phylums = os.listdir(\"%s/%s\" % (from_dir, h))\n",
    "    for p in phylums:\n",
    "        os.chdir(\"%s/%s/%s\" % (from_dir, h, p))\n",
    "        files = sorted(glob(\"*tif\"))\n",
    "        env.workspace = \"%s/%s/%s\" % (from_dir, h, p)\n",
    "        for f in files:\n",
    "            out_raster = arcpy.sa.ZonalStatistics(domain, \"Id\", f, \"SUM\", \"DATA\"); \n",
    "            out_raster.save(\"%s/%s/%s/%s\" % (to_dir, h, p, f))\n",
    "        print(\"-- %s %s: complete --\" % (h, p))"
   ]
  },
  {
   "cell_type": "code",
   "execution_count": null,
   "metadata": {},
   "outputs": [],
   "source": [
    "from_dir = ''\n",
    "to_dir = ''\n",
    "for h in ['surface', 'mesopelagic', 'bathypelagic', 'abyssopelagic']:\n",
    "    phylums = os.listdir(\"%s/%s\" % (from_dir, h))\n",
    "    for p in phylums:\n",
    "        try:\n",
    "            os.chdir(\"%s/%s/%s\" % (from_dir, h, p))\n",
    "            files = sorted(glob(\"*tif\"))\n",
    "            env.workspace = \"%s/%s/%s\" % (from_dir, h, p)\n",
    "            for f in files:\n",
    "                output = \"%s/%s/%s/%s\" % (to_dir, h, p, f)\n",
    "                arcpy.management.Resample(f, output, \"1 1\", \"NEAREST\")\n",
    "            print(\"-- %s %s: complete --\" % (h, p))\n",
    "        except:\n",
    "            pass"
   ]
  },
  {
   "cell_type": "code",
   "execution_count": 2,
   "metadata": {
    "scrolled": true
   },
   "outputs": [
    {
     "name": "stdout",
     "output_type": "stream",
     "text": [
      "-- surface Acanthocephala: complete --\n",
      "-- surface Annelida: complete --\n",
      "-- surface Arthropoda: complete --\n",
      "-- surface Brachiopoda: complete --\n",
      "-- surface Chaetognatha: complete --\n",
      "-- surface Chordata: complete --\n",
      "-- surface Cnidaria: complete --\n",
      "-- surface Ctenophora: complete --\n",
      "-- surface Cycliophora: complete --\n",
      "-- surface Echinodermata: complete --\n",
      "-- surface Echiura: complete --\n",
      "-- surface Gastrotricha: complete --\n",
      "-- surface Gnathostomulida: complete --\n",
      "-- surface Hemichordata: complete --\n",
      "-- surface Mollusca: complete --\n",
      "-- surface Nemertea: complete --\n",
      "-- surface Phoronida: complete --\n",
      "-- surface Platyhelminthes: complete --\n",
      "-- surface Porifera: complete --\n",
      "-- surface Rotifera: complete --\n",
      "-- surface Sipuncula: complete --\n",
      "-- mesopelagic Acanthocephala: complete --\n",
      "-- mesopelagic Annelida: complete --\n",
      "-- mesopelagic Arthropoda: complete --\n",
      "-- mesopelagic Brachiopoda: complete --\n",
      "-- mesopelagic Chaetognatha: complete --\n",
      "-- mesopelagic Chordata: complete --\n",
      "-- mesopelagic Cnidaria: complete --\n",
      "-- mesopelagic Ctenophora: complete --\n",
      "-- mesopelagic Cycliophora: complete --\n",
      "-- mesopelagic Echinodermata: complete --\n",
      "-- mesopelagic Echiura: complete --\n",
      "-- mesopelagic Gastrotricha: complete --\n",
      "-- mesopelagic Gnathostomulida: complete --\n",
      "-- mesopelagic Hemichordata: complete --\n",
      "-- mesopelagic Mollusca: complete --\n",
      "-- mesopelagic Nemertea: complete --\n",
      "-- mesopelagic Phoronida: complete --\n",
      "-- mesopelagic Platyhelminthes: complete --\n",
      "-- mesopelagic Porifera: complete --\n",
      "-- mesopelagic Rotifera: complete --\n",
      "-- mesopelagic Sipuncula: complete --\n",
      "-- bathypelagic Acanthocephala: complete --\n",
      "-- bathypelagic Annelida: complete --\n",
      "-- bathypelagic Arthropoda: complete --\n",
      "-- bathypelagic Brachiopoda: complete --\n",
      "-- bathypelagic Chaetognatha: complete --\n",
      "-- bathypelagic Chordata: complete --\n",
      "-- bathypelagic Cnidaria: complete --\n",
      "-- bathypelagic Ctenophora: complete --\n",
      "-- bathypelagic Cycliophora: complete --\n",
      "-- bathypelagic Echinodermata: complete --\n",
      "-- bathypelagic Echiura: complete --\n",
      "-- bathypelagic Gastrotricha: complete --\n",
      "-- bathypelagic Gnathostomulida: complete --\n",
      "-- bathypelagic Hemichordata: complete --\n",
      "-- bathypelagic Mollusca: complete --\n",
      "-- bathypelagic Nemertea: complete --\n",
      "-- bathypelagic Phoronida: complete --\n",
      "-- bathypelagic Platyhelminthes: complete --\n",
      "-- bathypelagic Porifera: complete --\n",
      "-- bathypelagic Rotifera: complete --\n",
      "-- bathypelagic Sipuncula: complete --\n",
      "-- abyssopelagic Acanthocephala: complete --\n",
      "-- abyssopelagic Annelida: complete --\n",
      "-- abyssopelagic Arthropoda: complete --\n",
      "-- abyssopelagic Brachiopoda: complete --\n",
      "-- abyssopelagic Chaetognatha: complete --\n",
      "-- abyssopelagic Chordata: complete --\n",
      "-- abyssopelagic Cnidaria: complete --\n",
      "-- abyssopelagic Ctenophora: complete --\n",
      "-- abyssopelagic Cycliophora: complete --\n",
      "-- abyssopelagic Echinodermata: complete --\n",
      "-- abyssopelagic Echiura: complete --\n",
      "-- abyssopelagic Gastrotricha: complete --\n",
      "-- abyssopelagic Gnathostomulida: complete --\n",
      "-- abyssopelagic Hemichordata: complete --\n",
      "-- abyssopelagic Mollusca: complete --\n",
      "-- abyssopelagic Nemertea: complete --\n",
      "-- abyssopelagic Phoronida: complete --\n",
      "-- abyssopelagic Platyhelminthes: complete --\n",
      "-- abyssopelagic Porifera: complete --\n",
      "-- abyssopelagic Rotifera: complete --\n",
      "-- abyssopelagic Sipuncula: complete --\n",
      "=== 0: complete ===\n",
      "-- surface Acanthocephala: complete --\n"
     ]
    },
    {
     "ename": "RuntimeError",
     "evalue": "ERROR 000872: Output Raster: Dataset G:\\LinYuxuan\\AquaMaps\\Threshold_upscale\\10\\surface\\Annelida\\Acmira_philbinae.tif already exists and cannot be overwritten since the Overwrite existing datasets option is disabled.",
     "output_type": "error",
     "traceback": [
      "\u001b[1;31m---------------------------------------------------------------------------\u001b[0m",
      "\u001b[1;31mRuntimeError\u001b[0m                              Traceback (most recent call last)",
      "\u001b[1;32m<ipython-input-2-bf8aa7f94093>\u001b[0m in \u001b[0;36m<module>\u001b[1;34m\u001b[0m\n\u001b[0;32m     10\u001b[0m \u001b[1;31m#                 with arcpy.EnvManager(cellSize=1):\u001b[0m\u001b[1;33m\u001b[0m\u001b[1;33m\u001b[0m\u001b[1;33m\u001b[0m\u001b[0m\n\u001b[0;32m     11\u001b[0m                 \u001b[0mout_raster\u001b[0m \u001b[1;33m=\u001b[0m \u001b[0marcpy\u001b[0m\u001b[1;33m.\u001b[0m\u001b[0msa\u001b[0m\u001b[1;33m.\u001b[0m\u001b[0mZonalStatistics\u001b[0m\u001b[1;33m(\u001b[0m\u001b[0mdomain\u001b[0m\u001b[1;33m,\u001b[0m \u001b[1;34m\"Id\"\u001b[0m\u001b[1;33m,\u001b[0m \u001b[0mf\u001b[0m\u001b[1;33m,\u001b[0m \u001b[1;34m\"SUM\"\u001b[0m\u001b[1;33m,\u001b[0m \u001b[1;34m\"DATA\"\u001b[0m\u001b[1;33m)\u001b[0m\u001b[1;33m;\u001b[0m\u001b[1;33m\u001b[0m\u001b[1;33m\u001b[0m\u001b[0m\n\u001b[1;32m---> 12\u001b[1;33m                 \u001b[0mout_raster\u001b[0m\u001b[1;33m.\u001b[0m\u001b[0msave\u001b[0m\u001b[1;33m(\u001b[0m\u001b[1;34mr\"G:\\LinYuxuan\\AquaMaps\\Threshold_upscale\\%s\\%s\\%s\\%s\"\u001b[0m \u001b[1;33m%\u001b[0m \u001b[1;33m(\u001b[0m\u001b[0mt\u001b[0m\u001b[1;33m,\u001b[0m \u001b[0mh\u001b[0m\u001b[1;33m,\u001b[0m \u001b[0mp\u001b[0m\u001b[1;33m,\u001b[0m \u001b[0mf\u001b[0m\u001b[1;33m)\u001b[0m\u001b[1;33m)\u001b[0m\u001b[1;33m\u001b[0m\u001b[1;33m\u001b[0m\u001b[0m\n\u001b[0m\u001b[0;32m     13\u001b[0m             \u001b[0mprint\u001b[0m\u001b[1;33m(\u001b[0m\u001b[1;34m\"-- %s %s: complete --\"\u001b[0m \u001b[1;33m%\u001b[0m \u001b[1;33m(\u001b[0m\u001b[0mh\u001b[0m\u001b[1;33m,\u001b[0m \u001b[0mp\u001b[0m\u001b[1;33m)\u001b[0m\u001b[1;33m)\u001b[0m\u001b[1;33m\u001b[0m\u001b[1;33m\u001b[0m\u001b[0m\n\u001b[0;32m     14\u001b[0m     \u001b[0mprint\u001b[0m\u001b[1;33m(\u001b[0m\u001b[1;34m\"=== %s: complete ===\"\u001b[0m \u001b[1;33m%\u001b[0m \u001b[0mt\u001b[0m\u001b[1;33m)\u001b[0m\u001b[1;33m\u001b[0m\u001b[1;33m\u001b[0m\u001b[0m\n",
      "\u001b[1;31mRuntimeError\u001b[0m: ERROR 000872: Output Raster: Dataset G:\\LinYuxuan\\AquaMaps\\Threshold_upscale\\10\\surface\\Annelida\\Acmira_philbinae.tif already exists and cannot be overwritten since the Overwrite existing datasets option is disabled."
     ]
    }
   ],
   "source": [
    "for t in [0, 10, 20]:\n",
    "    for h in ['surface', 'mesopelagic', 'bathypelagic', 'abyssopelagic']:\n",
    "        domain = r\"G:\\LinYuxuan\\AquaMaps\\fishnet\\%s.shp\" % h\n",
    "        phylums = os.listdir(r\"G:\\LinYuxuan\\AquaMaps\\Threshold_tif\\%s\\%s\" % (t, h))\n",
    "        for p in phylums:\n",
    "            os.chdir(r\"G:\\LinYuxuan\\AquaMaps\\Threshold_tif\\%s\\%s\\%s\" % (t, h, p))\n",
    "            files = sorted(glob(\"*tif\"))\n",
    "            env.workspace = r\"G:\\LinYuxuan\\AquaMaps\\Threshold_tif\\%s\\%s\\%s\" % (t, h, p)\n",
    "            for f in files:\n",
    "                out_raster = arcpy.sa.ZonalStatistics(domain, \"Id\", f, \"SUM\", \"DATA\"); \n",
    "                out_raster.save(r\"G:\\LinYuxuan\\AquaMaps\\Threshold_upscale\\%s\\%s\\%s\\%s\" % (t, h, p, f))\n",
    "            print(\"-- %s %s: complete --\" % (h, p))\n",
    "    print(\"=== %s: complete ===\" % t) "
   ]
  },
  {
   "cell_type": "code",
   "execution_count": 18,
   "metadata": {
    "scrolled": true
   },
   "outputs": [
    {
     "name": "stdout",
     "output_type": "stream",
     "text": [
      "-- surface Acanthocephala: complete --\n",
      "-- surface Hemichordata: complete --\n",
      "-- surface Mollusca: complete --\n",
      "-- surface Nemertea: complete --\n",
      "-- surface Phoronida: complete --\n",
      "-- surface Platyhelminthes: complete --\n",
      "-- surface Porifera: complete --\n",
      "-- surface Rotifera: complete --\n",
      "-- surface Sipuncula: complete --\n",
      "-- mesopelagic Acanthocephala: complete --\n",
      "-- mesopelagic Annelida: complete --\n",
      "-- mesopelagic Arthropoda: complete --\n",
      "-- mesopelagic Brachiopoda: complete --\n",
      "-- mesopelagic Chaetognatha: complete --\n",
      "-- mesopelagic Chordata: complete --\n",
      "-- mesopelagic Cnidaria: complete --\n",
      "-- mesopelagic Ctenophora: complete --\n",
      "-- mesopelagic Cycliophora: complete --\n",
      "-- mesopelagic Echinodermata: complete --\n",
      "-- mesopelagic Echiura: complete --\n",
      "-- mesopelagic Gastrotricha: complete --\n",
      "-- mesopelagic Gnathostomulida: complete --\n",
      "-- mesopelagic Hemichordata: complete --\n",
      "-- mesopelagic Mollusca: complete --\n",
      "-- mesopelagic Nemertea: complete --\n",
      "-- mesopelagic Phoronida: complete --\n",
      "-- mesopelagic Platyhelminthes: complete --\n",
      "-- mesopelagic Porifera: complete --\n",
      "-- mesopelagic Rotifera: complete --\n",
      "-- mesopelagic Sipuncula: complete --\n",
      "-- bathypelagic Acanthocephala: complete --\n",
      "-- bathypelagic Annelida: complete --\n",
      "-- bathypelagic Arthropoda: complete --\n",
      "-- bathypelagic Brachiopoda: complete --\n",
      "-- bathypelagic Chaetognatha: complete --\n",
      "-- bathypelagic Chordata: complete --\n",
      "-- bathypelagic Cnidaria: complete --\n",
      "-- bathypelagic Ctenophora: complete --\n",
      "-- bathypelagic Cycliophora: complete --\n",
      "-- bathypelagic Echinodermata: complete --\n",
      "-- bathypelagic Echiura: complete --\n",
      "-- bathypelagic Gastrotricha: complete --\n",
      "-- bathypelagic Gnathostomulida: complete --\n",
      "-- bathypelagic Hemichordata: complete --\n",
      "-- bathypelagic Mollusca: complete --\n",
      "-- bathypelagic Nemertea: complete --\n",
      "-- bathypelagic Phoronida: complete --\n",
      "-- bathypelagic Platyhelminthes: complete --\n",
      "-- bathypelagic Porifera: complete --\n",
      "-- bathypelagic Rotifera: complete --\n",
      "-- bathypelagic Sipuncula: complete --\n",
      "-- abyssopelagic Acanthocephala: complete --\n",
      "-- abyssopelagic Annelida: complete --\n",
      "-- abyssopelagic Arthropoda: complete --\n",
      "-- abyssopelagic Brachiopoda: complete --\n",
      "-- abyssopelagic Chaetognatha: complete --\n",
      "-- abyssopelagic Chordata: complete --\n",
      "-- abyssopelagic Cnidaria: complete --\n",
      "-- abyssopelagic Ctenophora: complete --\n",
      "-- abyssopelagic Cycliophora: complete --\n",
      "-- abyssopelagic Echinodermata: complete --\n",
      "-- abyssopelagic Echiura: complete --\n",
      "-- abyssopelagic Gastrotricha: complete --\n",
      "-- abyssopelagic Gnathostomulida: complete --\n",
      "-- abyssopelagic Hemichordata: complete --\n",
      "-- abyssopelagic Mollusca: complete --\n",
      "-- abyssopelagic Nemertea: complete --\n",
      "-- abyssopelagic Phoronida: complete --\n",
      "-- abyssopelagic Platyhelminthes: complete --\n",
      "-- abyssopelagic Porifera: complete --\n",
      "-- abyssopelagic Rotifera: complete --\n",
      "-- abyssopelagic Sipuncula: complete --\n",
      "=== 0: complete ===\n"
     ]
    }
   ],
   "source": [
    "for t in [0]:\n",
    "    for h in ['surface', 'mesopelagic', 'bathypelagic', 'abyssopelagic']:\n",
    "        phylums = os.listdir(r\"G:\\LinYuxuan\\AquaMaps\\Threshold_upscale\\%s\\%s\" % (t, h))\n",
    "        for p in phylums:\n",
    "            try:\n",
    "                os.chdir(r\"G:\\LinYuxuan\\AquaMaps\\Threshold_upscale\\%s\\%s\\%s\" % (t, h, p))\n",
    "                files = sorted(glob(\"*tif\"))\n",
    "                env.workspace = r\"G:\\LinYuxuan\\AquaMaps\\Threshold_upscale\\%s\\%s\\%s\" % (t, h, p)\n",
    "                for f in files:\n",
    "                    output = r\"G:\\LinYuxuan\\AquaMaps\\Threshold_resample\\%s\\%s\\%s\\%s\" % (t, h, p, f)\n",
    "                    arcpy.management.Resample(f, output, \"1 1\", \"NEAREST\")\n",
    "                print(\"-- %s %s: complete --\" % (h, p))\n",
    "            except:\n",
    "                pass\n",
    "    print(\"=== %s: complete ===\" % t)\n"
   ]
  },
  {
   "cell_type": "code",
   "execution_count": null,
   "metadata": {},
   "outputs": [],
   "source": []
  },
  {
   "cell_type": "code",
   "execution_count": 8,
   "metadata": {},
   "outputs": [
    {
     "data": {
      "text/plain": [
       "'Cephalodiscus_gracilis.tif'"
      ]
     },
     "execution_count": 8,
     "metadata": {},
     "output_type": "execute_result"
    }
   ],
   "source": [
    "# 文件名错误的处理：重命名文件\n",
    "f.split(\" \")[0] + '_' + f.split(\" \")[1]"
   ]
  },
  {
   "cell_type": "code",
   "execution_count": 17,
   "metadata": {
    "scrolled": true
   },
   "outputs": [
    {
     "name": "stdout",
     "output_type": "stream",
     "text": [
      "rename files: G:\\LinYuxuan\\AquaMaps\\Native_range\\Hemichordata\\Cephalodiscus gracilis.csv\n",
      "rename files: G:\\LinYuxuan\\AquaMaps\\Threshold_csv\\0\\mesopelagic\\Hemichordata\\Cephalodiscus gracilis.csv\n",
      "rename files: G:\\LinYuxuan\\AquaMaps\\Threshold_csv\\0\\surface\\Hemichordata\\Cephalodiscus gracilis.csv\n",
      "rename files: G:\\LinYuxuan\\AquaMaps\\Threshold_csv\\10\\mesopelagic\\Hemichordata\\Cephalodiscus gracilis.csv\n",
      "rename files: G:\\LinYuxuan\\AquaMaps\\Threshold_csv\\10\\surface\\Hemichordata\\Cephalodiscus gracilis.csv\n",
      "rename files: G:\\LinYuxuan\\AquaMaps\\Threshold_csv\\100\\mesopelagic\\Hemichordata\\Cephalodiscus gracilis.csv\n",
      "rename files: G:\\LinYuxuan\\AquaMaps\\Threshold_csv\\100\\surface\\Hemichordata\\Cephalodiscus gracilis.csv\n",
      "rename files: G:\\LinYuxuan\\AquaMaps\\Threshold_csv\\20\\mesopelagic\\Hemichordata\\Cephalodiscus gracilis.csv\n",
      "rename files: G:\\LinYuxuan\\AquaMaps\\Threshold_csv\\20\\surface\\Hemichordata\\Cephalodiscus gracilis.csv\n",
      "rename files: G:\\LinYuxuan\\AquaMaps\\Threshold_csv\\30\\mesopelagic\\Hemichordata\\Cephalodiscus gracilis.csv\n",
      "rename files: G:\\LinYuxuan\\AquaMaps\\Threshold_csv\\30\\surface\\Hemichordata\\Cephalodiscus gracilis.csv\n",
      "rename files: G:\\LinYuxuan\\AquaMaps\\Threshold_csv\\40\\mesopelagic\\Hemichordata\\Cephalodiscus gracilis.csv\n",
      "rename files: G:\\LinYuxuan\\AquaMaps\\Threshold_csv\\40\\surface\\Hemichordata\\Cephalodiscus gracilis.csv\n",
      "rename files: G:\\LinYuxuan\\AquaMaps\\Threshold_csv\\50\\mesopelagic\\Hemichordata\\Cephalodiscus gracilis.csv\n",
      "rename files: G:\\LinYuxuan\\AquaMaps\\Threshold_csv\\50\\surface\\Hemichordata\\Cephalodiscus gracilis.csv\n",
      "rename files: G:\\LinYuxuan\\AquaMaps\\Threshold_csv\\60\\mesopelagic\\Hemichordata\\Cephalodiscus gracilis.csv\n",
      "rename files: G:\\LinYuxuan\\AquaMaps\\Threshold_csv\\60\\surface\\Hemichordata\\Cephalodiscus gracilis.csv\n",
      "rename files: G:\\LinYuxuan\\AquaMaps\\Threshold_csv\\70\\mesopelagic\\Hemichordata\\Cephalodiscus gracilis.csv\n",
      "rename files: G:\\LinYuxuan\\AquaMaps\\Threshold_csv\\70\\surface\\Hemichordata\\Cephalodiscus gracilis.csv\n",
      "rename files: G:\\LinYuxuan\\AquaMaps\\Threshold_csv\\80\\mesopelagic\\Hemichordata\\Cephalodiscus gracilis.csv\n",
      "rename files: G:\\LinYuxuan\\AquaMaps\\Threshold_csv\\80\\surface\\Hemichordata\\Cephalodiscus gracilis.csv\n",
      "rename files: G:\\LinYuxuan\\AquaMaps\\Threshold_csv\\90\\mesopelagic\\Hemichordata\\Cephalodiscus gracilis.csv\n",
      "rename files: G:\\LinYuxuan\\AquaMaps\\Threshold_csv\\90\\surface\\Hemichordata\\Cephalodiscus gracilis.csv\n",
      "rename files: G:\\LinYuxuan\\AquaMaps\\Threshold_tif\\0\\mesopelagic\\Hemichordata\\Cephalodiscus gracilis.tif\n",
      "rename files: G:\\LinYuxuan\\AquaMaps\\Threshold_tif\\0\\surface\\Hemichordata\\Cephalodiscus gracilis.tif\n",
      "rename files: G:\\LinYuxuan\\AquaMaps\\Threshold_tif\\10\\mesopelagic\\Hemichordata\\Cephalodiscus gracilis.tif\n",
      "rename files: G:\\LinYuxuan\\AquaMaps\\Threshold_tif\\10\\surface\\Hemichordata\\Cephalodiscus gracilis.tif\n",
      "rename files: G:\\LinYuxuan\\AquaMaps\\Threshold_tif\\100\\mesopelagic\\Hemichordata\\Cephalodiscus gracilis.tif\n",
      "rename files: G:\\LinYuxuan\\AquaMaps\\Threshold_tif\\100\\surface\\Hemichordata\\Cephalodiscus gracilis.tif\n",
      "rename files: G:\\LinYuxuan\\AquaMaps\\Threshold_tif\\20\\mesopelagic\\Hemichordata\\Cephalodiscus gracilis.tif\n",
      "rename files: G:\\LinYuxuan\\AquaMaps\\Threshold_tif\\20\\surface\\Hemichordata\\Cephalodiscus gracilis.tif\n",
      "rename files: G:\\LinYuxuan\\AquaMaps\\Threshold_tif\\30\\mesopelagic\\Hemichordata\\Cephalodiscus gracilis.tif\n",
      "rename files: G:\\LinYuxuan\\AquaMaps\\Threshold_tif\\30\\surface\\Hemichordata\\Cephalodiscus gracilis.tif\n",
      "rename files: G:\\LinYuxuan\\AquaMaps\\Threshold_tif\\40\\mesopelagic\\Hemichordata\\Cephalodiscus gracilis.tif\n",
      "rename files: G:\\LinYuxuan\\AquaMaps\\Threshold_tif\\40\\surface\\Hemichordata\\Cephalodiscus gracilis.tif\n",
      "rename files: G:\\LinYuxuan\\AquaMaps\\Threshold_tif\\50\\mesopelagic\\Hemichordata\\Cephalodiscus gracilis.tif\n",
      "rename files: G:\\LinYuxuan\\AquaMaps\\Threshold_tif\\50\\surface\\Hemichordata\\Cephalodiscus gracilis.tif\n",
      "rename files: G:\\LinYuxuan\\AquaMaps\\Threshold_tif\\60\\mesopelagic\\Hemichordata\\Cephalodiscus gracilis.tif\n",
      "rename files: G:\\LinYuxuan\\AquaMaps\\Threshold_tif\\60\\surface\\Hemichordata\\Cephalodiscus gracilis.tif\n",
      "rename files: G:\\LinYuxuan\\AquaMaps\\Threshold_tif\\70\\mesopelagic\\Hemichordata\\Cephalodiscus gracilis.tif\n",
      "rename files: G:\\LinYuxuan\\AquaMaps\\Threshold_tif\\70\\surface\\Hemichordata\\Cephalodiscus gracilis.tif\n",
      "rename files: G:\\LinYuxuan\\AquaMaps\\Threshold_tif\\80\\mesopelagic\\Hemichordata\\Cephalodiscus gracilis.tif\n",
      "rename files: G:\\LinYuxuan\\AquaMaps\\Threshold_tif\\80\\surface\\Hemichordata\\Cephalodiscus gracilis.tif\n",
      "rename files: G:\\LinYuxuan\\AquaMaps\\Threshold_tif\\90\\mesopelagic\\Hemichordata\\Cephalodiscus gracilis.tif\n",
      "rename files: G:\\LinYuxuan\\AquaMaps\\Threshold_tif\\90\\surface\\Hemichordata\\Cephalodiscus gracilis.tif\n",
      "rename files: G:\\LinYuxuan\\AquaMaps\\Threshold_upscale\\0\\mesopelagic\\Hemichordata\\Cephalodiscus gracilis.tfw\n",
      "rename files: G:\\LinYuxuan\\AquaMaps\\Threshold_upscale\\0\\mesopelagic\\Hemichordata\\Cephalodiscus gracilis.tif\n",
      "rename files: G:\\LinYuxuan\\AquaMaps\\Threshold_upscale\\0\\mesopelagic\\Hemichordata\\Cephalodiscus gracilis.tif.aux.xml\n",
      "rename files: G:\\LinYuxuan\\AquaMaps\\Threshold_upscale\\0\\surface\\Hemichordata\\Cephalodiscus gracilis.tfw\n",
      "rename files: G:\\LinYuxuan\\AquaMaps\\Threshold_upscale\\0\\surface\\Hemichordata\\Cephalodiscus gracilis.tif\n",
      "rename files: G:\\LinYuxuan\\AquaMaps\\Threshold_upscale\\0\\surface\\Hemichordata\\Cephalodiscus gracilis.tif.aux.xml\n",
      "rename files: G:\\LinYuxuan\\AquaMaps\\Threshold_upscale\\10\\mesopelagic\\Hemichordata\\Cephalodiscus gracilis.tfw\n",
      "rename files: G:\\LinYuxuan\\AquaMaps\\Threshold_upscale\\10\\mesopelagic\\Hemichordata\\Cephalodiscus gracilis.tif\n",
      "rename files: G:\\LinYuxuan\\AquaMaps\\Threshold_upscale\\10\\mesopelagic\\Hemichordata\\Cephalodiscus gracilis.tif.aux.xml\n",
      "rename files: G:\\LinYuxuan\\AquaMaps\\Threshold_upscale\\10\\surface\\Hemichordata\\Cephalodiscus gracilis.tfw\n",
      "rename files: G:\\LinYuxuan\\AquaMaps\\Threshold_upscale\\10\\surface\\Hemichordata\\Cephalodiscus gracilis.tif\n",
      "rename files: G:\\LinYuxuan\\AquaMaps\\Threshold_upscale\\10\\surface\\Hemichordata\\Cephalodiscus gracilis.tif.aux.xml\n",
      "rename files: G:\\LinYuxuan\\AquaMaps\\Threshold_upscale\\100\\mesopelagic\\Hemichordata\\Cephalodiscus gracilis.tfw\n",
      "rename files: G:\\LinYuxuan\\AquaMaps\\Threshold_upscale\\100\\mesopelagic\\Hemichordata\\Cephalodiscus gracilis.tif\n",
      "rename files: G:\\LinYuxuan\\AquaMaps\\Threshold_upscale\\100\\mesopelagic\\Hemichordata\\Cephalodiscus gracilis.tif.aux.xml\n",
      "rename files: G:\\LinYuxuan\\AquaMaps\\Threshold_upscale\\100\\surface\\Hemichordata\\Cephalodiscus gracilis.tfw\n",
      "rename files: G:\\LinYuxuan\\AquaMaps\\Threshold_upscale\\100\\surface\\Hemichordata\\Cephalodiscus gracilis.tif\n",
      "rename files: G:\\LinYuxuan\\AquaMaps\\Threshold_upscale\\100\\surface\\Hemichordata\\Cephalodiscus gracilis.tif.aux.xml\n",
      "rename files: G:\\LinYuxuan\\AquaMaps\\Threshold_upscale\\20\\mesopelagic\\Hemichordata\\Cephalodiscus gracilis.tfw\n",
      "rename files: G:\\LinYuxuan\\AquaMaps\\Threshold_upscale\\20\\mesopelagic\\Hemichordata\\Cephalodiscus gracilis.tif\n",
      "rename files: G:\\LinYuxuan\\AquaMaps\\Threshold_upscale\\20\\mesopelagic\\Hemichordata\\Cephalodiscus gracilis.tif.aux.xml\n",
      "rename files: G:\\LinYuxuan\\AquaMaps\\Threshold_upscale\\20\\surface\\Hemichordata\\Cephalodiscus gracilis.tfw\n",
      "rename files: G:\\LinYuxuan\\AquaMaps\\Threshold_upscale\\20\\surface\\Hemichordata\\Cephalodiscus gracilis.tif\n",
      "rename files: G:\\LinYuxuan\\AquaMaps\\Threshold_upscale\\20\\surface\\Hemichordata\\Cephalodiscus gracilis.tif.aux.xml\n",
      "rename files: G:\\LinYuxuan\\AquaMaps\\Threshold_upscale\\30\\mesopelagic\\Hemichordata\\Cephalodiscus gracilis.tfw\n",
      "rename files: G:\\LinYuxuan\\AquaMaps\\Threshold_upscale\\30\\mesopelagic\\Hemichordata\\Cephalodiscus gracilis.tif\n",
      "rename files: G:\\LinYuxuan\\AquaMaps\\Threshold_upscale\\30\\mesopelagic\\Hemichordata\\Cephalodiscus gracilis.tif.aux.xml\n",
      "rename files: G:\\LinYuxuan\\AquaMaps\\Threshold_upscale\\30\\surface\\Hemichordata\\Cephalodiscus gracilis.tfw\n",
      "rename files: G:\\LinYuxuan\\AquaMaps\\Threshold_upscale\\30\\surface\\Hemichordata\\Cephalodiscus gracilis.tif\n",
      "rename files: G:\\LinYuxuan\\AquaMaps\\Threshold_upscale\\30\\surface\\Hemichordata\\Cephalodiscus gracilis.tif.aux.xml\n",
      "rename files: G:\\LinYuxuan\\AquaMaps\\Threshold_upscale\\40\\mesopelagic\\Hemichordata\\Cephalodiscus gracilis.tfw\n",
      "rename files: G:\\LinYuxuan\\AquaMaps\\Threshold_upscale\\40\\mesopelagic\\Hemichordata\\Cephalodiscus gracilis.tif\n",
      "rename files: G:\\LinYuxuan\\AquaMaps\\Threshold_upscale\\40\\mesopelagic\\Hemichordata\\Cephalodiscus gracilis.tif.aux.xml\n"
     ]
    },
    {
     "name": "stdout",
     "output_type": "stream",
     "text": [
      "rename files: G:\\LinYuxuan\\AquaMaps\\Threshold_upscale\\40\\surface\\Hemichordata\\Cephalodiscus gracilis.tfw\n",
      "rename files: G:\\LinYuxuan\\AquaMaps\\Threshold_upscale\\40\\surface\\Hemichordata\\Cephalodiscus gracilis.tif\n",
      "rename files: G:\\LinYuxuan\\AquaMaps\\Threshold_upscale\\40\\surface\\Hemichordata\\Cephalodiscus gracilis.tif.aux.xml\n",
      "rename files: G:\\LinYuxuan\\AquaMaps\\Threshold_upscale\\50\\mesopelagic\\Hemichordata\\Cephalodiscus gracilis.tfw\n",
      "rename files: G:\\LinYuxuan\\AquaMaps\\Threshold_upscale\\50\\mesopelagic\\Hemichordata\\Cephalodiscus gracilis.tif\n",
      "rename files: G:\\LinYuxuan\\AquaMaps\\Threshold_upscale\\50\\mesopelagic\\Hemichordata\\Cephalodiscus gracilis.tif.aux.xml\n",
      "rename files: G:\\LinYuxuan\\AquaMaps\\Threshold_upscale\\50\\surface\\Hemichordata\\Cephalodiscus gracilis.tfw\n",
      "rename files: G:\\LinYuxuan\\AquaMaps\\Threshold_upscale\\50\\surface\\Hemichordata\\Cephalodiscus gracilis.tif\n",
      "rename files: G:\\LinYuxuan\\AquaMaps\\Threshold_upscale\\50\\surface\\Hemichordata\\Cephalodiscus gracilis.tif.aux.xml\n",
      "rename files: G:\\LinYuxuan\\AquaMaps\\Threshold_upscale\\60\\mesopelagic\\Hemichordata\\Cephalodiscus gracilis.tfw\n",
      "rename files: G:\\LinYuxuan\\AquaMaps\\Threshold_upscale\\60\\mesopelagic\\Hemichordata\\Cephalodiscus gracilis.tif\n",
      "rename files: G:\\LinYuxuan\\AquaMaps\\Threshold_upscale\\60\\mesopelagic\\Hemichordata\\Cephalodiscus gracilis.tif.aux.xml\n",
      "rename files: G:\\LinYuxuan\\AquaMaps\\Threshold_upscale\\60\\surface\\Hemichordata\\Cephalodiscus gracilis.tfw\n",
      "rename files: G:\\LinYuxuan\\AquaMaps\\Threshold_upscale\\60\\surface\\Hemichordata\\Cephalodiscus gracilis.tif\n",
      "rename files: G:\\LinYuxuan\\AquaMaps\\Threshold_upscale\\60\\surface\\Hemichordata\\Cephalodiscus gracilis.tif.aux.xml\n",
      "rename files: G:\\LinYuxuan\\AquaMaps\\Threshold_upscale\\70\\mesopelagic\\Hemichordata\\Cephalodiscus gracilis.tfw\n",
      "rename files: G:\\LinYuxuan\\AquaMaps\\Threshold_upscale\\70\\mesopelagic\\Hemichordata\\Cephalodiscus gracilis.tif\n",
      "rename files: G:\\LinYuxuan\\AquaMaps\\Threshold_upscale\\70\\mesopelagic\\Hemichordata\\Cephalodiscus gracilis.tif.aux.xml\n",
      "rename files: G:\\LinYuxuan\\AquaMaps\\Threshold_upscale\\70\\surface\\Hemichordata\\Cephalodiscus gracilis.tfw\n",
      "rename files: G:\\LinYuxuan\\AquaMaps\\Threshold_upscale\\70\\surface\\Hemichordata\\Cephalodiscus gracilis.tif\n",
      "rename files: G:\\LinYuxuan\\AquaMaps\\Threshold_upscale\\70\\surface\\Hemichordata\\Cephalodiscus gracilis.tif.aux.xml\n",
      "rename files: G:\\LinYuxuan\\AquaMaps\\Threshold_upscale\\80\\mesopelagic\\Hemichordata\\Cephalodiscus gracilis.tfw\n",
      "rename files: G:\\LinYuxuan\\AquaMaps\\Threshold_upscale\\80\\mesopelagic\\Hemichordata\\Cephalodiscus gracilis.tif\n",
      "rename files: G:\\LinYuxuan\\AquaMaps\\Threshold_upscale\\80\\mesopelagic\\Hemichordata\\Cephalodiscus gracilis.tif.aux.xml\n",
      "rename files: G:\\LinYuxuan\\AquaMaps\\Threshold_upscale\\80\\surface\\Hemichordata\\Cephalodiscus gracilis.tfw\n",
      "rename files: G:\\LinYuxuan\\AquaMaps\\Threshold_upscale\\80\\surface\\Hemichordata\\Cephalodiscus gracilis.tif\n",
      "rename files: G:\\LinYuxuan\\AquaMaps\\Threshold_upscale\\80\\surface\\Hemichordata\\Cephalodiscus gracilis.tif.aux.xml\n",
      "rename files: G:\\LinYuxuan\\AquaMaps\\Threshold_upscale\\90\\mesopelagic\\Hemichordata\\Cephalodiscus gracilis.tfw\n",
      "rename files: G:\\LinYuxuan\\AquaMaps\\Threshold_upscale\\90\\mesopelagic\\Hemichordata\\Cephalodiscus gracilis.tif\n",
      "rename files: G:\\LinYuxuan\\AquaMaps\\Threshold_upscale\\90\\mesopelagic\\Hemichordata\\Cephalodiscus gracilis.tif.aux.xml\n",
      "rename files: G:\\LinYuxuan\\AquaMaps\\Threshold_upscale\\90\\surface\\Hemichordata\\Cephalodiscus gracilis.tfw\n",
      "rename files: G:\\LinYuxuan\\AquaMaps\\Threshold_upscale\\90\\surface\\Hemichordata\\Cephalodiscus gracilis.tif\n",
      "rename files: G:\\LinYuxuan\\AquaMaps\\Threshold_upscale\\90\\surface\\Hemichordata\\Cephalodiscus gracilis.tif.aux.xml\n"
     ]
    }
   ],
   "source": [
    "path = r'G:\\LinYuxuan\\AquaMaps'\n",
    "for root,dirs,files in os.walk(path):\n",
    "    for name in files:\n",
    "        # 将包含指定字符串的文件名(含后缀)的文件删除(字符串可索引\"in\")\n",
    "        if 'Cephalodiscus gracilis' in name:\n",
    "            newname = name.replace('Cephalodiscus gracilis', 'Cephalodiscus_gracilis')\n",
    "            os.rename(os.path.join(root,name), os.path.join(root,newname))\n",
    "            print('rename files:',os.path.join(root,name))   "
   ]
  },
  {
   "cell_type": "code",
   "execution_count": 15,
   "metadata": {},
   "outputs": [
    {
     "data": {
      "text/plain": [
       "'Xenosiphon_branchiatus'"
      ]
     },
     "execution_count": 15,
     "metadata": {},
     "output_type": "execute_result"
    }
   ],
   "source": [
    "name.split(\".\")[0]"
   ]
  },
  {
   "cell_type": "code",
   "execution_count": 16,
   "metadata": {},
   "outputs": [
    {
     "data": {
      "text/plain": [
       "'Cephalodiscus gracilis.tif.aux.xml'"
      ]
     },
     "execution_count": 16,
     "metadata": {},
     "output_type": "execute_result"
    }
   ],
   "source": [
    "name.replace('Xenosiphon_branchiatus', 'Cephalodiscus gracilis')"
   ]
  },
  {
   "cell_type": "code",
   "execution_count": null,
   "metadata": {},
   "outputs": [],
   "source": []
  }
 ],
 "metadata": {
  "kernelspec": {
   "display_name": "Python 3",
   "language": "python",
   "name": "python3"
  },
  "language_info": {
   "codemirror_mode": {
    "name": "ipython",
    "version": 3
   },
   "file_extension": ".py",
   "mimetype": "text/x-python",
   "name": "python",
   "nbconvert_exporter": "python",
   "pygments_lexer": "ipython3",
   "version": "3.8.8"
  }
 },
 "nbformat": 4,
 "nbformat_minor": 4
}
